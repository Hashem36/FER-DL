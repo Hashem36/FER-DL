{
  "nbformat": 4,
  "nbformat_minor": 0,
  "metadata": {
    "colab": {
      "provenance": [],
      "gpuType": "T4"
    },
    "kernelspec": {
      "name": "python3",
      "display_name": "Python 3"
    },
    "language_info": {
      "name": "python"
    },
    "accelerator": "GPU"
  },
  "cells": [
    {
      "cell_type": "markdown",
      "source": [
        "# 📂 Importing Required Libraries\n",
        "This section imports essential libraries for model building, training, and visualization.\n"
      ],
      "metadata": {
        "id": "V_g4C7IPlAs7"
      }
    },
    {
      "cell_type": "code",
      "source": [
        "import os\n",
        "import numpy as np\n",
        "import pandas as pd\n",
        "import matplotlib.pyplot as plt\n",
        "import tensorflow as tf\n",
        "import seaborn as sns\n",
        "\n",
        "from sklearn.metrics import classification_report, confusion_matrix\n",
        "from tensorflow import keras\n",
        "from tensorflow.keras import layers, regularizers\n",
        "from tensorflow.keras.utils import to_categorical, plot_model\n",
        "from tensorflow.keras.applications import Xception\n",
        "from tensorflow.keras.models import Sequential, load_model\n",
        "from tensorflow.keras.preprocessing.image import ImageDataGenerator\n",
        "from keras.callbacks import ModelCheckpoint"
      ],
      "metadata": {
        "id": "sNCRW8x0lLZW"
      },
      "execution_count": 2,
      "outputs": []
    },
    {
      "cell_type": "markdown",
      "source": [
        "# **📂 Mounting Google Drive**                                                                         \n",
        "This section mounts Google Drive to access stored files\n"
      ],
      "metadata": {
        "id": "rPq5sFYXi8CO"
      }
    },
    {
      "cell_type": "code",
      "source": [
        "from google.colab import drive\n",
        "drive.mount('/content/drive')  # Mount Google Drive\n"
      ],
      "metadata": {
        "colab": {
          "base_uri": "https://localhost:8080/"
        },
        "id": "ajbmjMITi-8t",
        "outputId": "1e1acd52-853a-44da-e794-a644f7b78e1e"
      },
      "execution_count": 3,
      "outputs": [
        {
          "output_type": "stream",
          "name": "stdout",
          "text": [
            "Mounted at /content/drive\n"
          ]
        }
      ]
    },
    {
      "cell_type": "markdown",
      "source": [
        "**📥 Loading and Inspecting Data**                                                          \n",
        "\n",
        "This section loads the dataset from Google Drive and checks its structure.\n"
      ],
      "metadata": {
        "id": "INeTjNO5jRHh"
      }
    },
    {
      "cell_type": "code",
      "source": [
        "import pandas as pd\n",
        "\n",
        "# Load dataset\n",
        "data = pd.read_csv('/content/drive/MyDrive/GP-FER/finaldataset.csv')\n",
        "\n",
        "# Display the first few rows\n",
        "data.head()\n",
        "\n",
        "# Show column names\n",
        "data.columns"
      ],
      "metadata": {
        "colab": {
          "base_uri": "https://localhost:8080/"
        },
        "id": "VexNvY6EjPR7",
        "outputId": "609578f6-406a-48ef-94c1-f83bf496e50a"
      },
      "execution_count": 4,
      "outputs": [
        {
          "output_type": "execute_result",
          "data": {
            "text/plain": [
              "Index(['emotion', ' Usage', ' pixels'], dtype='object')"
            ]
          },
          "metadata": {},
          "execution_count": 4
        }
      ]
    },
    {
      "cell_type": "markdown",
      "source": [
        "**🔢 Processing Pixel Data**                                                      \n",
        "Converts pixel data from string format into a NumPy array and normalizes values.\n"
      ],
      "metadata": {
        "id": "-gny3w0EjX7S"
      }
    },
    {
      "cell_type": "code",
      "source": [
        "import numpy as np\n",
        "\n",
        "# Convert pixel values into a NumPy array and normalize\n",
        "data['pixels'] = data[' pixels'].apply(lambda x: np.array(x.split(), dtype=np.float32) / 255.0)"
      ],
      "metadata": {
        "id": "tHkEzm72jdZe"
      },
      "execution_count": 5,
      "outputs": []
    },
    {
      "cell_type": "markdown",
      "source": [
        "**✂ Splitting the Dataset**                                                      \n",
        "Categorizes data into training, validation, and test sets.\n"
      ],
      "metadata": {
        "id": "NJ2f8qi2jfU1"
      }
    },
    {
      "cell_type": "code",
      "source": [
        "# Extract the column that contains split categories\n",
        "splitter_column = data.iloc[:,1]\n",
        "\n",
        "# Split the dataset\n",
        "training_data = data[splitter_column == 'Training']\n",
        "validation_data = data[splitter_column == 'PublicTest']\n",
        "test_data = data[splitter_column == 'PrivateTest']"
      ],
      "metadata": {
        "collapsed": true,
        "id": "u8lCsfoDjnk4"
      },
      "execution_count": 6,
      "outputs": []
    },
    {
      "cell_type": "markdown",
      "source": [
        "**⚙ Preprocessing Data**                                                       \n",
        "Reshapes image data and converts labels to categorical format.\n"
      ],
      "metadata": {
        "id": "0zvrQXcQjq2x"
      }
    },
    {
      "cell_type": "code",
      "source": [
        "from tensorflow.keras.utils import to_categorical\n",
        "\n",
        "# Function to preprocess images\n",
        "def preprocess(data):\n",
        "    images = np.array(data['pixels'].tolist()).reshape(-1, 48, 48, 1)\n",
        "    return images\n",
        "\n",
        "# Prepare input datasets\n",
        "x_train = preprocess(training_data)\n",
        "x_val = preprocess(validation_data)\n",
        "x_test = preprocess(test_data)\n",
        "\n",
        "# Convert labels to categorical format for classification\n",
        "y_train = to_categorical(training_data['emotion'].values, num_classes=7)\n",
        "y_val = to_categorical(validation_data['emotion'].values, num_classes=7)\n",
        "y_test = to_categorical(test_data['emotion'].values, num_classes=7)"
      ],
      "metadata": {
        "id": "6WgGteFqjpaP"
      },
      "execution_count": 7,
      "outputs": []
    },
    {
      "cell_type": "markdown",
      "source": [
        "**🔍 Checking Label Data** :\n",
        "Prints sample label values and maps emotions to numeric indices.\n"
      ],
      "metadata": {
        "id": "OiPT4RJ2j0hf"
      }
    },
    {
      "cell_type": "code",
      "source": [
        "# Display first few labels in the training dataset\n",
        "print(y_train[:7])  # Show numeric labels\n",
        "print(np.unique(y_train))  # Show all unique label values"
      ],
      "metadata": {
        "colab": {
          "base_uri": "https://localhost:8080/"
        },
        "id": "JfKk3tlZj5i1",
        "outputId": "0ed3ce48-4d1c-4507-bcf8-dd9d3d6909ae"
      },
      "execution_count": 8,
      "outputs": [
        {
          "output_type": "stream",
          "name": "stdout",
          "text": [
            "[[1. 0. 0. 0. 0. 0. 0.]\n",
            " [1. 0. 0. 0. 0. 0. 0.]\n",
            " [0. 0. 1. 0. 0. 0. 0.]\n",
            " [0. 0. 0. 0. 1. 0. 0.]\n",
            " [0. 0. 0. 0. 0. 0. 1.]\n",
            " [0. 0. 1. 0. 0. 0. 0.]\n",
            " [0. 0. 0. 0. 1. 0. 0.]]\n",
            "[0. 1.]\n"
          ]
        }
      ]
    },
    {
      "cell_type": "code",
      "source": [
        "# Extract unique emotion labels and map them to numeric indices\n",
        "unique_labels = np.unique(training_data['emotion'])\n",
        "indices = [training_data['emotion'].tolist().index(label) for label in unique_labels]\n",
        "\n",
        "class_indices = {label: index for index, label in enumerate(unique_labels)}\n",
        "\n",
        "# Print the label-index mapping\n",
        "print(class_indices)"
      ],
      "metadata": {
        "colab": {
          "base_uri": "https://localhost:8080/"
        },
        "id": "P9mQLo9Lj7Tq",
        "outputId": "4f1d0704-1ced-46f9-c016-dd1985bf4aaa"
      },
      "execution_count": 9,
      "outputs": [
        {
          "output_type": "stream",
          "name": "stdout",
          "text": [
            "{np.int64(0): 0, np.int64(1): 1, np.int64(2): 2, np.int64(3): 3, np.int64(4): 4, np.int64(5): 5, np.int64(6): 6}\n"
          ]
        }
      ]
    },
    {
      "cell_type": "markdown",
      "source": [
        "# **🏗 Loading Pre-trained Model**\n",
        "Loads a saved deep learning model from Google Drive.\n"
      ],
      "metadata": {
        "id": "K-Lza6zWj_hm"
      }
    },
    {
      "cell_type": "code",
      "source": [
        "from tensorflow import keras\n",
        "\n",
        "# Load pre-trained model\n",
        "model = keras.models.load_model('/content/drive/MyDrive/GP-FER/xception_model2.h5')\n"
      ],
      "metadata": {
        "colab": {
          "base_uri": "https://localhost:8080/"
        },
        "collapsed": true,
        "id": "3zAfS9PFj8EE",
        "outputId": "365fcf0d-58b0-4788-c046-68a3013968f9"
      },
      "execution_count": 10,
      "outputs": [
        {
          "output_type": "stream",
          "name": "stderr",
          "text": [
            "WARNING:absl:Compiled the loaded model, but the compiled metrics have yet to be built. `model.compile_metrics` will be empty until you train or evaluate the model.\n"
          ]
        }
      ]
    },
    {
      "cell_type": "markdown",
      "source": [
        "**🖼 Data Augmentation**                                                                                          \n",
        "Applies random transformations to training images to improve model generalization.\n"
      ],
      "metadata": {
        "id": "JUIkXqZBkP51"
      }
    },
    {
      "cell_type": "code",
      "source": [
        "from tensorflow.keras.preprocessing.image import ImageDataGenerator\n",
        "\n",
        "# Define image augmentation techniques\n",
        "train_generator = ImageDataGenerator(\n",
        "    rotation_range=30,  # Random rotation within 30 degrees\n",
        "    width_shift_range=0.2,  # Horizontal shift up to 20%\n",
        "    height_shift_range=0.2,  # Vertical shift up to 20%\n",
        "    zoom_range=0.2,  # Zoom up to 20%\n",
        "    horizontal_flip=True,  # Randomly flip images horizontally\n",
        "    fill_mode='nearest'  # Fill missing pixels with nearest values\n",
        ")"
      ],
      "metadata": {
        "id": "5lkne2gIkHCH"
      },
      "execution_count": 11,
      "outputs": []
    },
    {
      "cell_type": "markdown",
      "source": [
        "# 🏗 Building the Xception Model Architecture\n",
        "This section defines the entry flow, middle flow, and exit flow for model construction.\n"
      ],
      "metadata": {
        "id": "C5ydWVpPkVP5"
      }
    },
    {
      "cell_type": "code",
      "source": [
        "def entry_flow(inputs):\n",
        "    x = layers.Conv2D(32, 3, strides=2, padding='same')(inputs)\n",
        "    x = layers.BatchNormalization()(x)\n",
        "    x = layers.Activation('relu')(x)\n",
        "\n",
        "    x = layers.Conv2D(64, 3, padding='same')(x)\n",
        "    x = layers.BatchNormalization()(x)\n",
        "    x = layers.Activation('relu')(x)\n",
        "\n",
        "    previous_block_activation = x  # Set aside residual\n",
        "\n",
        "    # Blocks 1, 2, and 3 follow a similar pattern, increasing feature depth\n",
        "    for size in [128, 256, 728]:\n",
        "        x = layers.Activation('relu')(x)\n",
        "        x = layers.SeparableConv2D(size, 3, padding='same')(x)\n",
        "        x = layers.BatchNormalization()(x)\n",
        "\n",
        "        x = layers.Activation('relu')(x)\n",
        "        x = layers.SeparableConv2D(size, 3, padding='same')(x)\n",
        "        x = layers.BatchNormalization()(x)\n",
        "\n",
        "        x = layers.MaxPooling2D(3, strides=2, padding='same')(x)\n",
        "\n",
        "        residual = layers.Conv2D(size, 1, strides=2, padding='same')(previous_block_activation)\n",
        "        x = layers.add([x, residual])  # Add back residual\n",
        "        previous_block_activation = x  # Set aside next residual\n",
        "\n",
        "    return x"
      ],
      "metadata": {
        "id": "_jf3txtPlUK0"
      },
      "execution_count": 12,
      "outputs": []
    },
    {
      "cell_type": "code",
      "source": [
        "def middle_flow(x, num_blocks=8):\n",
        "    previous_block_activation = x\n",
        "\n",
        "    for _ in range(num_blocks):\n",
        "        x = layers.Activation('relu')(x)\n",
        "        x = layers.SeparableConv2D(728, 3, padding='same')(x)\n",
        "        x = layers.BatchNormalization()(x)\n",
        "\n",
        "        x = layers.Activation('relu')(x)\n",
        "        x = layers.SeparableConv2D(728, 3, padding='same')(x)\n",
        "        x = layers.BatchNormalization()(x)\n",
        "\n",
        "        x = layers.Activation('relu')(x)\n",
        "        x = layers.SeparableConv2D(728, 3, padding='same')(x)\n",
        "        x = layers.BatchNormalization()(x)\n",
        "        x = layers.Dropout(0.5)(x)  # Apply dropout for regularization\n",
        "\n",
        "        x = layers.add([x, previous_block_activation])  # Add back residual\n",
        "        previous_block_activation = x  # Set aside next residual\n",
        "\n",
        "    return x"
      ],
      "metadata": {
        "id": "115d-c00lVd1"
      },
      "execution_count": 13,
      "outputs": []
    },
    {
      "cell_type": "code",
      "source": [
        "def exit_flow(x, num_classes=7):\n",
        "    previous_block_activation = x\n",
        "\n",
        "    x = layers.Activation('relu')(x)\n",
        "    x = layers.SeparableConv2D(728, 3, padding='same')(x)\n",
        "    x = layers.BatchNormalization()(x)\n",
        "\n",
        "    x = layers.Activation('relu')(x)\n",
        "    x = layers.SeparableConv2D(1024, 3, padding='same')(x)\n",
        "    x = layers.BatchNormalization()(x)\n",
        "\n",
        "    x = layers.MaxPooling2D(3, strides=2, padding='same')(x)\n",
        "\n",
        "    residual = layers.Conv2D(1024, 1, strides=2, padding='same')(previous_block_activation)\n",
        "    x = layers.add([x, residual])  # Add back residual\n",
        "\n",
        "    x = layers.SeparableConv2D(1536, 3, padding='same')(x)\n",
        "    x = layers.BatchNormalization()(x)\n",
        "    x = layers.Activation('relu')(x)\n",
        "\n",
        "    x = layers.SeparableConv2D(2048, 3, padding='same')(x)\n",
        "    x = layers.BatchNormalization()(x)\n",
        "    x = layers.Activation('relu')(x)\n",
        "\n",
        "    x = layers.GlobalAveragePooling2D()(x)\n",
        "\n",
        "    activation = 'sigmoid' if num_classes == 1 else 'softmax'\n",
        "    return layers.Dense(num_classes, activation=activation, kernel_regularizer=regularizers.l2(0.01))(x)\n",
        "\n",
        "# Construct the full model\n",
        "inputs = keras.Input(shape=(48, 48, 1))  # Define input shape\n",
        "outputs = exit_flow(middle_flow(entry_flow(inputs)))\n",
        "xception = keras.Model(inputs, outputs)"
      ],
      "metadata": {
        "id": "wMxEk71qlaEO"
      },
      "execution_count": 14,
      "outputs": []
    },
    {
      "cell_type": "markdown",
      "source": [
        "**📊 Model Training Configuration**           \n",
        "\n",
        "Defines optimizer, loss function, and checkpoints\n"
      ],
      "metadata": {
        "id": "dQVqyvVtlbzV"
      }
    },
    {
      "cell_type": "code",
      "source": [
        "from keras.callbacks import ModelCheckpoint\n",
        "\n",
        "# Define optimizer\n",
        "optimizer = keras.optimizers.Adam(learning_rate=0.001)\n",
        "xception.compile(optimizer=optimizer, loss='categorical_crossentropy', metrics=['accuracy'])\n",
        "\n",
        "# Define model checkpoint\n",
        "checkpoint = ModelCheckpoint('best_model.h5', monitor='val_loss', verbose=1, save_best_only=True, mode='max')"
      ],
      "metadata": {
        "id": "GeV-rN5QlkFv"
      },
      "execution_count": 15,
      "outputs": []
    },
    {
      "cell_type": "markdown",
      "source": [
        "**🔄 Data Augmentation**          \n",
        "Creates a data generator to apply transformations for training robustness.\n"
      ],
      "metadata": {
        "id": "OKy-LPIBlrGH"
      }
    },
    {
      "cell_type": "code",
      "source": [
        "train_generator = ImageDataGenerator(\n",
        "    rotation_range=30,\n",
        "    width_shift_range=0.2,\n",
        "    height_shift_range=0.2,\n",
        "    zoom_range=0.2,\n",
        "    horizontal_flip=True,\n",
        "    fill_mode='nearest'\n",
        ")\n",
        "batch_size = 64\n",
        "\n",
        "# Define data loaders\n",
        "train_loader = train_generator.flow(x_train, y_train, batch_size=batch_size)\n",
        "val_loader = (x_val, y_val)"
      ],
      "metadata": {
        "id": "On07J_mWlmqd"
      },
      "execution_count": 16,
      "outputs": []
    },
    {
      "cell_type": "markdown",
      "source": [
        "**🏋 Model Training**               \n",
        "Executes model training in multiple phases with adaptive learning rates.\n"
      ],
      "metadata": {
        "id": "3L577Ke3lx3h"
      }
    },
    {
      "cell_type": "code",
      "source": [
        "epochs = 100\n",
        "training1 = xception.fit(train_loader, steps_per_epoch=len(x_train)//batch_size, epochs=epochs, validation_data=val_loader, callbacks=[checkpoint])"
      ],
      "metadata": {
        "colab": {
          "base_uri": "https://localhost:8080/"
        },
        "id": "3dsCF4Helz_l",
        "outputId": "66c71e1b-27b2-44e4-cb44-e222c34f3626"
      },
      "execution_count": 17,
      "outputs": [
        {
          "metadata": {
            "tags": null
          },
          "name": "stdout",
          "output_type": "stream",
          "text": [
            "Epoch 1/100\n"
          ]
        },
        {
          "metadata": {
            "tags": null
          },
          "name": "stderr",
          "output_type": "stream",
          "text": [
            "/usr/local/lib/python3.11/dist-packages/keras/src/trainers/data_adapters/py_dataset_adapter.py:121: UserWarning: Your `PyDataset` class should call `super().__init__(**kwargs)` in its constructor. `**kwargs` can include `workers`, `use_multiprocessing`, `max_queue_size`. Do not pass these arguments to `fit()`, as they will be ignored.\n",
            "  self._warn_if_super_not_called()\n"
          ]
        },
        {
          "metadata": {
            "tags": null
          },
          "name": "stdout",
          "output_type": "stream",
          "text": [
            "\u001b[1m1060/1060\u001b[0m \u001b[32m━━━━━━━━━━━━━━━━━━━━\u001b[0m\u001b[37m\u001b[0m \u001b[1m0s\u001b[0m 87ms/step - accuracy: 0.2742 - loss: 1.8896\n",
            "Epoch 1: val_loss improved from -inf to 1.64755, saving model to best_model.h5\n"
          ]
        },
        {
          "metadata": {
            "tags": null
          },
          "name": "stderr",
          "output_type": "stream",
          "text": [
            "WARNING:absl:You are saving your model as an HDF5 file via `model.save()` or `keras.saving.save_model(model)`. This file format is considered legacy. We recommend using instead the native Keras format, e.g. `model.save('my_model.keras')` or `keras.saving.save_model(model, 'my_model.keras')`. \n"
          ]
        },
        {
          "metadata": {
            "tags": null
          },
          "name": "stdout",
          "output_type": "stream",
          "text": [
            "\u001b[1m1060/1060\u001b[0m \u001b[32m━━━━━━━━━━━━━━━━━━━━\u001b[0m\u001b[37m\u001b[0m \u001b[1m156s\u001b[0m 95ms/step - accuracy: 0.2743 - loss: 1.8895 - val_accuracy: 0.4193 - val_loss: 1.6476\n",
            "Epoch 2/100\n",
            "\u001b[1m   1/1060\u001b[0m \u001b[37m━━━━━━━━━━━━━━━━━━━━\u001b[0m \u001b[1m1:55\u001b[0m 109ms/step - accuracy: 0.5000 - loss: 1.3177"
          ]
        },
        {
          "metadata": {
            "tags": null
          },
          "name": "stderr",
          "output_type": "stream",
          "text": [
            "/usr/local/lib/python3.11/dist-packages/keras/src/trainers/epoch_iterator.py:107: UserWarning: Your input ran out of data; interrupting training. Make sure that your dataset or generator can generate at least `steps_per_epoch * epochs` batches. You may need to use the `.repeat()` function when building your dataset.\n",
            "  self._interrupted_warning()\n"
          ]
        },
        {
          "output_type": "stream",
          "name": "stdout",
          "text": [
            "\n",
            "Epoch 2: val_loss did not improve from 1.64755\n",
            "\u001b[1m1060/1060\u001b[0m \u001b[32m━━━━━━━━━━━━━━━━━━━━\u001b[0m\u001b[37m\u001b[0m \u001b[1m1s\u001b[0m 1ms/step - accuracy: 0.5000 - loss: 1.3177 - val_accuracy: 0.4260 - val_loss: 1.6459\n",
            "Epoch 3/100\n",
            "\u001b[1m1060/1060\u001b[0m \u001b[32m━━━━━━━━━━━━━━━━━━━━\u001b[0m\u001b[37m\u001b[0m \u001b[1m0s\u001b[0m 65ms/step - accuracy: 0.4506 - loss: 1.4392\n",
            "Epoch 3: val_loss did not improve from 1.64755\n",
            "\u001b[1m1060/1060\u001b[0m \u001b[32m━━━━━━━━━━━━━━━━━━━━\u001b[0m\u001b[37m\u001b[0m \u001b[1m70s\u001b[0m 66ms/step - accuracy: 0.4506 - loss: 1.4391 - val_accuracy: 0.4661 - val_loss: 1.4828\n",
            "Epoch 4/100\n",
            "\u001b[1m   1/1060\u001b[0m \u001b[37m━━━━━━━━━━━━━━━━━━━━\u001b[0m \u001b[1m59s\u001b[0m 56ms/step - accuracy: 0.4688 - loss: 1.4180\n",
            "Epoch 4: val_loss did not improve from 1.64755\n",
            "\u001b[1m1060/1060\u001b[0m \u001b[32m━━━━━━━━━━━━━━━━━━━━\u001b[0m\u001b[37m\u001b[0m \u001b[1m1s\u001b[0m 1ms/step - accuracy: 0.4688 - loss: 1.4180 - val_accuracy: 0.4583 - val_loss: 1.5165\n",
            "Epoch 5/100\n",
            "\u001b[1m1060/1060\u001b[0m \u001b[32m━━━━━━━━━━━━━━━━━━━━\u001b[0m\u001b[37m\u001b[0m \u001b[1m0s\u001b[0m 67ms/step - accuracy: 0.5100 - loss: 1.3015\n",
            "Epoch 5: val_loss did not improve from 1.64755\n",
            "\u001b[1m1060/1060\u001b[0m \u001b[32m━━━━━━━━━━━━━━━━━━━━\u001b[0m\u001b[37m\u001b[0m \u001b[1m72s\u001b[0m 68ms/step - accuracy: 0.5100 - loss: 1.3015 - val_accuracy: 0.4929 - val_loss: 1.6200\n",
            "Epoch 6/100\n",
            "\u001b[1m   1/1060\u001b[0m \u001b[37m━━━━━━━━━━━━━━━━━━━━\u001b[0m \u001b[1m59s\u001b[0m 56ms/step - accuracy: 0.4844 - loss: 1.3080\n",
            "Epoch 6: val_loss did not improve from 1.64755\n",
            "\u001b[1m1060/1060\u001b[0m \u001b[32m━━━━━━━━━━━━━━━━━━━━\u001b[0m\u001b[37m\u001b[0m \u001b[1m1s\u001b[0m 1ms/step - accuracy: 0.4844 - loss: 1.3080 - val_accuracy: 0.4957 - val_loss: 1.5986\n",
            "Epoch 7/100\n",
            "\u001b[1m1060/1060\u001b[0m \u001b[32m━━━━━━━━━━━━━━━━━━━━\u001b[0m\u001b[37m\u001b[0m \u001b[1m0s\u001b[0m 67ms/step - accuracy: 0.5341 - loss: 1.2389\n",
            "Epoch 7: val_loss did not improve from 1.64755\n",
            "\u001b[1m1060/1060\u001b[0m \u001b[32m━━━━━━━━━━━━━━━━━━━━\u001b[0m\u001b[37m\u001b[0m \u001b[1m72s\u001b[0m 68ms/step - accuracy: 0.5341 - loss: 1.2388 - val_accuracy: 0.5222 - val_loss: 1.2747\n",
            "Epoch 8/100\n",
            "\u001b[1m   1/1060\u001b[0m \u001b[37m━━━━━━━━━━━━━━━━━━━━\u001b[0m \u001b[1m1:03\u001b[0m 60ms/step - accuracy: 0.6094 - loss: 1.1204\n",
            "Epoch 8: val_loss did not improve from 1.64755\n",
            "\u001b[1m1060/1060\u001b[0m \u001b[32m━━━━━━━━━━━━━━━━━━━━\u001b[0m\u001b[37m\u001b[0m \u001b[1m1s\u001b[0m 1ms/step - accuracy: 0.6094 - loss: 1.1204 - val_accuracy: 0.5313 - val_loss: 1.2617\n",
            "Epoch 9/100\n",
            "\u001b[1m1060/1060\u001b[0m \u001b[32m━━━━━━━━━━━━━━━━━━━━\u001b[0m\u001b[37m\u001b[0m \u001b[1m0s\u001b[0m 67ms/step - accuracy: 0.5609 - loss: 1.1813\n",
            "Epoch 9: val_loss did not improve from 1.64755\n",
            "\u001b[1m1060/1060\u001b[0m \u001b[32m━━━━━━━━━━━━━━━━━━━━\u001b[0m\u001b[37m\u001b[0m \u001b[1m72s\u001b[0m 68ms/step - accuracy: 0.5609 - loss: 1.1813 - val_accuracy: 0.5040 - val_loss: 1.3246\n",
            "Epoch 10/100\n",
            "\u001b[1m   1/1060\u001b[0m \u001b[37m━━━━━━━━━━━━━━━━━━━━\u001b[0m \u001b[1m1:04\u001b[0m 61ms/step - accuracy: 0.5156 - loss: 1.2263\n",
            "Epoch 10: val_loss did not improve from 1.64755\n",
            "\u001b[1m1060/1060\u001b[0m \u001b[32m━━━━━━━━━━━━━━━━━━━━\u001b[0m\u001b[37m\u001b[0m \u001b[1m1s\u001b[0m 1ms/step - accuracy: 0.5156 - loss: 1.2263 - val_accuracy: 0.5001 - val_loss: 1.3222\n",
            "Epoch 11/100\n",
            "\u001b[1m1060/1060\u001b[0m \u001b[32m━━━━━━━━━━━━━━━━━━━━\u001b[0m\u001b[37m\u001b[0m \u001b[1m0s\u001b[0m 68ms/step - accuracy: 0.5727 - loss: 1.1448\n",
            "Epoch 11: val_loss did not improve from 1.64755\n",
            "\u001b[1m1060/1060\u001b[0m \u001b[32m━━━━━━━━━━━━━━━━━━━━\u001b[0m\u001b[37m\u001b[0m \u001b[1m81s\u001b[0m 69ms/step - accuracy: 0.5727 - loss: 1.1448 - val_accuracy: 0.5603 - val_loss: 1.1838\n",
            "Epoch 12/100\n",
            "\u001b[1m   1/1060\u001b[0m \u001b[37m━━━━━━━━━━━━━━━━━━━━\u001b[0m \u001b[1m59s\u001b[0m 56ms/step - accuracy: 0.5781 - loss: 0.9624\n",
            "Epoch 12: val_loss did not improve from 1.64755\n",
            "\u001b[1m1060/1060\u001b[0m \u001b[32m━━━━━━━━━━━━━━━━━━━━\u001b[0m\u001b[37m\u001b[0m \u001b[1m1s\u001b[0m 1ms/step - accuracy: 0.5781 - loss: 0.9624 - val_accuracy: 0.5587 - val_loss: 1.1914\n",
            "Epoch 13/100\n",
            "\u001b[1m1060/1060\u001b[0m \u001b[32m━━━━━━━━━━━━━━━━━━━━\u001b[0m\u001b[37m\u001b[0m \u001b[1m0s\u001b[0m 67ms/step - accuracy: 0.5848 - loss: 1.1232\n",
            "Epoch 13: val_loss did not improve from 1.64755\n",
            "\u001b[1m1060/1060\u001b[0m \u001b[32m━━━━━━━━━━━━━━━━━━━━\u001b[0m\u001b[37m\u001b[0m \u001b[1m72s\u001b[0m 68ms/step - accuracy: 0.5848 - loss: 1.1232 - val_accuracy: 0.5506 - val_loss: 1.1813\n",
            "Epoch 14/100\n",
            "\u001b[1m   1/1060\u001b[0m \u001b[37m━━━━━━━━━━━━━━━━━━━━\u001b[0m \u001b[1m1:00\u001b[0m 57ms/step - accuracy: 0.5312 - loss: 1.1180\n",
            "Epoch 14: val_loss did not improve from 1.64755\n",
            "\u001b[1m1060/1060\u001b[0m \u001b[32m━━━━━━━━━━━━━━━━━━━━\u001b[0m\u001b[37m\u001b[0m \u001b[1m1s\u001b[0m 1ms/step - accuracy: 0.5312 - loss: 1.1180 - val_accuracy: 0.5500 - val_loss: 1.1805\n",
            "Epoch 15/100\n",
            "\u001b[1m1060/1060\u001b[0m \u001b[32m━━━━━━━━━━━━━━━━━━━━\u001b[0m\u001b[37m\u001b[0m \u001b[1m0s\u001b[0m 67ms/step - accuracy: 0.5967 - loss: 1.0900\n",
            "Epoch 15: val_loss did not improve from 1.64755\n",
            "\u001b[1m1060/1060\u001b[0m \u001b[32m━━━━━━━━━━━━━━━━━━━━\u001b[0m\u001b[37m\u001b[0m \u001b[1m81s\u001b[0m 68ms/step - accuracy: 0.5967 - loss: 1.0900 - val_accuracy: 0.5712 - val_loss: 1.1522\n",
            "Epoch 16/100\n",
            "\u001b[1m   1/1060\u001b[0m \u001b[37m━━━━━━━━━━━━━━━━━━━━\u001b[0m \u001b[1m1:06\u001b[0m 63ms/step - accuracy: 0.5312 - loss: 1.2829\n",
            "Epoch 16: val_loss did not improve from 1.64755\n",
            "\u001b[1m1060/1060\u001b[0m \u001b[32m━━━━━━━━━━━━━━━━━━━━\u001b[0m\u001b[37m\u001b[0m \u001b[1m1s\u001b[0m 1ms/step - accuracy: 0.5312 - loss: 1.2829 - val_accuracy: 0.5790 - val_loss: 1.1382\n",
            "Epoch 17/100\n",
            "\u001b[1m1060/1060\u001b[0m \u001b[32m━━━━━━━━━━━━━━━━━━━━\u001b[0m\u001b[37m\u001b[0m \u001b[1m0s\u001b[0m 68ms/step - accuracy: 0.6049 - loss: 1.0690\n",
            "Epoch 17: val_loss did not improve from 1.64755\n",
            "\u001b[1m1060/1060\u001b[0m \u001b[32m━━━━━━━━━━━━━━━━━━━━\u001b[0m\u001b[37m\u001b[0m \u001b[1m73s\u001b[0m 69ms/step - accuracy: 0.6049 - loss: 1.0690 - val_accuracy: 0.5949 - val_loss: 1.0922\n",
            "Epoch 18/100\n",
            "\u001b[1m   1/1060\u001b[0m \u001b[37m━━━━━━━━━━━━━━━━━━━━\u001b[0m \u001b[1m1:00\u001b[0m 57ms/step - accuracy: 0.6719 - loss: 0.9947\n",
            "Epoch 18: val_loss did not improve from 1.64755\n",
            "\u001b[1m1060/1060\u001b[0m \u001b[32m━━━━━━━━━━━━━━━━━━━━\u001b[0m\u001b[37m\u001b[0m \u001b[1m1s\u001b[0m 1ms/step - accuracy: 0.6719 - loss: 0.9947 - val_accuracy: 0.5949 - val_loss: 1.0918\n",
            "Epoch 19/100\n",
            "\u001b[1m1060/1060\u001b[0m \u001b[32m━━━━━━━━━━━━━━━━━━━━\u001b[0m\u001b[37m\u001b[0m \u001b[1m0s\u001b[0m 67ms/step - accuracy: 0.6099 - loss: 1.0502\n",
            "Epoch 19: val_loss did not improve from 1.64755\n",
            "\u001b[1m1060/1060\u001b[0m \u001b[32m━━━━━━━━━━━━━━━━━━━━\u001b[0m\u001b[37m\u001b[0m \u001b[1m80s\u001b[0m 68ms/step - accuracy: 0.6099 - loss: 1.0502 - val_accuracy: 0.5756 - val_loss: 1.1349\n",
            "Epoch 20/100\n",
            "\u001b[1m   1/1060\u001b[0m \u001b[37m━━━━━━━━━━━━━━━━━━━━\u001b[0m \u001b[1m1:00\u001b[0m 57ms/step - accuracy: 0.6562 - loss: 0.9766\n",
            "Epoch 20: val_loss did not improve from 1.64755\n",
            "\u001b[1m1060/1060\u001b[0m \u001b[32m━━━━━━━━━━━━━━━━━━━━\u001b[0m\u001b[37m\u001b[0m \u001b[1m1s\u001b[0m 1ms/step - accuracy: 0.6562 - loss: 0.9766 - val_accuracy: 0.5798 - val_loss: 1.1312\n",
            "Epoch 21/100\n",
            "\u001b[1m1060/1060\u001b[0m \u001b[32m━━━━━━━━━━━━━━━━━━━━\u001b[0m\u001b[37m\u001b[0m \u001b[1m0s\u001b[0m 67ms/step - accuracy: 0.6179 - loss: 1.0347\n",
            "Epoch 21: val_loss did not improve from 1.64755\n",
            "\u001b[1m1060/1060\u001b[0m \u001b[32m━━━━━━━━━━━━━━━━━━━━\u001b[0m\u001b[37m\u001b[0m \u001b[1m81s\u001b[0m 68ms/step - accuracy: 0.6179 - loss: 1.0347 - val_accuracy: 0.6027 - val_loss: 1.0683\n",
            "Epoch 22/100\n",
            "\u001b[1m   1/1060\u001b[0m \u001b[37m━━━━━━━━━━━━━━━━━━━━\u001b[0m \u001b[1m1:01\u001b[0m 58ms/step - accuracy: 0.6094 - loss: 0.9397\n",
            "Epoch 22: val_loss did not improve from 1.64755\n",
            "\u001b[1m1060/1060\u001b[0m \u001b[32m━━━━━━━━━━━━━━━━━━━━\u001b[0m\u001b[37m\u001b[0m \u001b[1m1s\u001b[0m 1ms/step - accuracy: 0.6094 - loss: 0.9397 - val_accuracy: 0.6021 - val_loss: 1.0666\n",
            "Epoch 23/100\n",
            "\u001b[1m1060/1060\u001b[0m \u001b[32m━━━━━━━━━━━━━━━━━━━━\u001b[0m\u001b[37m\u001b[0m \u001b[1m0s\u001b[0m 67ms/step - accuracy: 0.6253 - loss: 1.0152\n",
            "Epoch 23: val_loss did not improve from 1.64755\n",
            "\u001b[1m1060/1060\u001b[0m \u001b[32m━━━━━━━━━━━━━━━━━━━━\u001b[0m\u001b[37m\u001b[0m \u001b[1m81s\u001b[0m 69ms/step - accuracy: 0.6253 - loss: 1.0152 - val_accuracy: 0.5879 - val_loss: 1.1286\n",
            "Epoch 24/100\n",
            "\u001b[1m   1/1060\u001b[0m \u001b[37m━━━━━━━━━━━━━━━━━━━━\u001b[0m \u001b[1m1:11\u001b[0m 68ms/step - accuracy: 0.7812 - loss: 0.6966\n",
            "Epoch 24: val_loss did not improve from 1.64755\n",
            "\u001b[1m1060/1060\u001b[0m \u001b[32m━━━━━━━━━━━━━━━━━━━━\u001b[0m\u001b[37m\u001b[0m \u001b[1m1s\u001b[0m 1ms/step - accuracy: 0.7812 - loss: 0.6966 - val_accuracy: 0.5890 - val_loss: 1.1318\n",
            "Epoch 25/100\n",
            "\u001b[1m1060/1060\u001b[0m \u001b[32m━━━━━━━━━━━━━━━━━━━━\u001b[0m\u001b[37m\u001b[0m \u001b[1m0s\u001b[0m 67ms/step - accuracy: 0.6360 - loss: 0.9888\n",
            "Epoch 25: val_loss did not improve from 1.64755\n",
            "\u001b[1m1060/1060\u001b[0m \u001b[32m━━━━━━━━━━━━━━━━━━━━\u001b[0m\u001b[37m\u001b[0m \u001b[1m73s\u001b[0m 69ms/step - accuracy: 0.6360 - loss: 0.9888 - val_accuracy: 0.5857 - val_loss: 1.1489\n",
            "Epoch 26/100\n",
            "\u001b[1m   1/1060\u001b[0m \u001b[37m━━━━━━━━━━━━━━━━━━━━\u001b[0m \u001b[1m1:02\u001b[0m 59ms/step - accuracy: 0.5469 - loss: 1.2770\n",
            "Epoch 26: val_loss did not improve from 1.64755\n",
            "\u001b[1m1060/1060\u001b[0m \u001b[32m━━━━━━━━━━━━━━━━━━━━\u001b[0m\u001b[37m\u001b[0m \u001b[1m1s\u001b[0m 1ms/step - accuracy: 0.5469 - loss: 1.2770 - val_accuracy: 0.5801 - val_loss: 1.1639\n",
            "Epoch 27/100\n",
            "\u001b[1m1060/1060\u001b[0m \u001b[32m━━━━━━━━━━━━━━━━━━━━\u001b[0m\u001b[37m\u001b[0m \u001b[1m0s\u001b[0m 67ms/step - accuracy: 0.6383 - loss: 0.9801\n",
            "Epoch 27: val_loss did not improve from 1.64755\n",
            "\u001b[1m1060/1060\u001b[0m \u001b[32m━━━━━━━━━━━━━━━━━━━━\u001b[0m\u001b[37m\u001b[0m \u001b[1m80s\u001b[0m 68ms/step - accuracy: 0.6384 - loss: 0.9801 - val_accuracy: 0.5848 - val_loss: 1.1109\n",
            "Epoch 28/100\n",
            "\u001b[1m   1/1060\u001b[0m \u001b[37m━━━━━━━━━━━━━━━━━━━━\u001b[0m \u001b[1m1:00\u001b[0m 57ms/step - accuracy: 0.6406 - loss: 0.9505\n",
            "Epoch 28: val_loss did not improve from 1.64755\n",
            "\u001b[1m1060/1060\u001b[0m \u001b[32m━━━━━━━━━━━━━━━━━━━━\u001b[0m\u001b[37m\u001b[0m \u001b[1m1s\u001b[0m 1ms/step - accuracy: 0.6406 - loss: 0.9505 - val_accuracy: 0.5834 - val_loss: 1.1170\n",
            "Epoch 29/100\n",
            "\u001b[1m1060/1060\u001b[0m \u001b[32m━━━━━━━━━━━━━━━━━━━━\u001b[0m\u001b[37m\u001b[0m \u001b[1m0s\u001b[0m 67ms/step - accuracy: 0.6417 - loss: 0.9674\n",
            "Epoch 29: val_loss did not improve from 1.64755\n",
            "\u001b[1m1060/1060\u001b[0m \u001b[32m━━━━━━━━━━━━━━━━━━━━\u001b[0m\u001b[37m\u001b[0m \u001b[1m72s\u001b[0m 68ms/step - accuracy: 0.6417 - loss: 0.9674 - val_accuracy: 0.6085 - val_loss: 1.0366\n",
            "Epoch 30/100\n",
            "\u001b[1m   1/1060\u001b[0m \u001b[37m━━━━━━━━━━━━━━━━━━━━\u001b[0m \u001b[1m59s\u001b[0m 57ms/step - accuracy: 0.8281 - loss: 0.6285\n",
            "Epoch 30: val_loss did not improve from 1.64755\n",
            "\u001b[1m1060/1060\u001b[0m \u001b[32m━━━━━━━━━━━━━━━━━━━━\u001b[0m\u001b[37m\u001b[0m \u001b[1m1s\u001b[0m 1ms/step - accuracy: 0.8281 - loss: 0.6285 - val_accuracy: 0.6124 - val_loss: 1.0325\n",
            "Epoch 31/100\n",
            "\u001b[1m1060/1060\u001b[0m \u001b[32m━━━━━━━━━━━━━━━━━━━━\u001b[0m\u001b[37m\u001b[0m \u001b[1m0s\u001b[0m 67ms/step - accuracy: 0.6437 - loss: 0.9560\n",
            "Epoch 31: val_loss did not improve from 1.64755\n",
            "\u001b[1m1060/1060\u001b[0m \u001b[32m━━━━━━━━━━━━━━━━━━━━\u001b[0m\u001b[37m\u001b[0m \u001b[1m72s\u001b[0m 68ms/step - accuracy: 0.6437 - loss: 0.9560 - val_accuracy: 0.6041 - val_loss: 1.0584\n",
            "Epoch 32/100\n",
            "\u001b[1m   1/1060\u001b[0m \u001b[37m━━━━━━━━━━━━━━━━━━━━\u001b[0m \u001b[1m1:07\u001b[0m 63ms/step - accuracy: 0.7188 - loss: 0.9428\n",
            "Epoch 32: val_loss did not improve from 1.64755\n",
            "\u001b[1m1060/1060\u001b[0m \u001b[32m━━━━━━━━━━━━━━━━━━━━\u001b[0m\u001b[37m\u001b[0m \u001b[1m1s\u001b[0m 1ms/step - accuracy: 0.7188 - loss: 0.9428 - val_accuracy: 0.6035 - val_loss: 1.0604\n",
            "Epoch 33/100\n",
            "\u001b[1m1060/1060\u001b[0m \u001b[32m━━━━━━━━━━━━━━━━━━━━\u001b[0m\u001b[37m\u001b[0m \u001b[1m0s\u001b[0m 67ms/step - accuracy: 0.6522 - loss: 0.9426\n",
            "Epoch 33: val_loss did not improve from 1.64755\n",
            "\u001b[1m1060/1060\u001b[0m \u001b[32m━━━━━━━━━━━━━━━━━━━━\u001b[0m\u001b[37m\u001b[0m \u001b[1m81s\u001b[0m 68ms/step - accuracy: 0.6522 - loss: 0.9426 - val_accuracy: 0.6342 - val_loss: 0.9861\n",
            "Epoch 34/100\n",
            "\u001b[1m   1/1060\u001b[0m \u001b[37m━━━━━━━━━━━━━━━━━━━━\u001b[0m \u001b[1m1:01\u001b[0m 58ms/step - accuracy: 0.6719 - loss: 0.8227\n",
            "Epoch 34: val_loss did not improve from 1.64755\n",
            "\u001b[1m1060/1060\u001b[0m \u001b[32m━━━━━━━━━━━━━━━━━━━━\u001b[0m\u001b[37m\u001b[0m \u001b[1m1s\u001b[0m 1ms/step - accuracy: 0.6719 - loss: 0.8227 - val_accuracy: 0.6344 - val_loss: 0.9880\n",
            "Epoch 35/100\n",
            "\u001b[1m1060/1060\u001b[0m \u001b[32m━━━━━━━━━━━━━━━━━━━━\u001b[0m\u001b[37m\u001b[0m \u001b[1m0s\u001b[0m 67ms/step - accuracy: 0.6539 - loss: 0.9334\n",
            "Epoch 35: val_loss did not improve from 1.64755\n",
            "\u001b[1m1060/1060\u001b[0m \u001b[32m━━━━━━━━━━━━━━━━━━━━\u001b[0m\u001b[37m\u001b[0m \u001b[1m72s\u001b[0m 68ms/step - accuracy: 0.6539 - loss: 0.9334 - val_accuracy: 0.6317 - val_loss: 0.9846\n",
            "Epoch 36/100\n",
            "\u001b[1m   1/1060\u001b[0m \u001b[37m━━━━━━━━━━━━━━━━━━━━\u001b[0m \u001b[1m59s\u001b[0m 56ms/step - accuracy: 0.6875 - loss: 0.9641\n",
            "Epoch 36: val_loss did not improve from 1.64755\n",
            "\u001b[1m1060/1060\u001b[0m \u001b[32m━━━━━━━━━━━━━━━━━━━━\u001b[0m\u001b[37m\u001b[0m \u001b[1m1s\u001b[0m 1ms/step - accuracy: 0.6875 - loss: 0.9641 - val_accuracy: 0.6305 - val_loss: 0.9825\n",
            "Epoch 37/100\n",
            "\u001b[1m1060/1060\u001b[0m \u001b[32m━━━━━━━━━━━━━━━━━━━━\u001b[0m\u001b[37m\u001b[0m \u001b[1m0s\u001b[0m 67ms/step - accuracy: 0.6628 - loss: 0.9228\n",
            "Epoch 37: val_loss did not improve from 1.64755\n",
            "\u001b[1m1060/1060\u001b[0m \u001b[32m━━━━━━━━━━━━━━━━━━━━\u001b[0m\u001b[37m\u001b[0m \u001b[1m72s\u001b[0m 68ms/step - accuracy: 0.6628 - loss: 0.9228 - val_accuracy: 0.6481 - val_loss: 0.9443\n",
            "Epoch 38/100\n",
            "\u001b[1m   1/1060\u001b[0m \u001b[37m━━━━━━━━━━━━━━━━━━━━\u001b[0m \u001b[1m1:01\u001b[0m 58ms/step - accuracy: 0.6719 - loss: 0.9652\n",
            "Epoch 38: val_loss did not improve from 1.64755\n",
            "\u001b[1m1060/1060\u001b[0m \u001b[32m━━━━━━━━━━━━━━━━━━━━\u001b[0m\u001b[37m\u001b[0m \u001b[1m1s\u001b[0m 1ms/step - accuracy: 0.6719 - loss: 0.9652 - val_accuracy: 0.6445 - val_loss: 0.9453\n",
            "Epoch 39/100\n",
            "\u001b[1m1060/1060\u001b[0m \u001b[32m━━━━━━━━━━━━━━━━━━━━\u001b[0m\u001b[37m\u001b[0m \u001b[1m0s\u001b[0m 67ms/step - accuracy: 0.6674 - loss: 0.9039\n",
            "Epoch 39: val_loss did not improve from 1.64755\n",
            "\u001b[1m1060/1060\u001b[0m \u001b[32m━━━━━━━━━━━━━━━━━━━━\u001b[0m\u001b[37m\u001b[0m \u001b[1m73s\u001b[0m 69ms/step - accuracy: 0.6674 - loss: 0.9039 - val_accuracy: 0.6049 - val_loss: 1.0833\n",
            "Epoch 40/100\n",
            "\u001b[1m   1/1060\u001b[0m \u001b[37m━━━━━━━━━━━━━━━━━━━━\u001b[0m \u001b[1m58s\u001b[0m 55ms/step - accuracy: 0.6719 - loss: 0.8532\n",
            "Epoch 40: val_loss did not improve from 1.64755\n",
            "\u001b[1m1060/1060\u001b[0m \u001b[32m━━━━━━━━━━━━━━━━━━━━\u001b[0m\u001b[37m\u001b[0m \u001b[1m1s\u001b[0m 1ms/step - accuracy: 0.6719 - loss: 0.8532 - val_accuracy: 0.6024 - val_loss: 1.0926\n",
            "Epoch 41/100\n",
            "\u001b[1m1060/1060\u001b[0m \u001b[32m━━━━━━━━━━━━━━━━━━━━\u001b[0m\u001b[37m\u001b[0m \u001b[1m0s\u001b[0m 67ms/step - accuracy: 0.6699 - loss: 0.8919\n",
            "Epoch 41: val_loss did not improve from 1.64755\n",
            "\u001b[1m1060/1060\u001b[0m \u001b[32m━━━━━━━━━━━━━━━━━━━━\u001b[0m\u001b[37m\u001b[0m \u001b[1m80s\u001b[0m 68ms/step - accuracy: 0.6699 - loss: 0.8919 - val_accuracy: 0.6197 - val_loss: 1.0287\n",
            "Epoch 42/100\n",
            "\u001b[1m   1/1060\u001b[0m \u001b[37m━━━━━━━━━━━━━━━━━━━━\u001b[0m \u001b[1m1:00\u001b[0m 57ms/step - accuracy: 0.5781 - loss: 1.1731\n",
            "Epoch 42: val_loss did not improve from 1.64755\n",
            "\u001b[1m1060/1060\u001b[0m \u001b[32m━━━━━━━━━━━━━━━━━━━━\u001b[0m\u001b[37m\u001b[0m \u001b[1m1s\u001b[0m 1ms/step - accuracy: 0.5781 - loss: 1.1731 - val_accuracy: 0.6233 - val_loss: 1.0240\n",
            "Epoch 43/100\n",
            "\u001b[1m1060/1060\u001b[0m \u001b[32m━━━━━━━━━━━━━━━━━━━━\u001b[0m\u001b[37m\u001b[0m \u001b[1m0s\u001b[0m 67ms/step - accuracy: 0.6741 - loss: 0.8927\n",
            "Epoch 43: val_loss did not improve from 1.64755\n",
            "\u001b[1m1060/1060\u001b[0m \u001b[32m━━━━━━━━━━━━━━━━━━━━\u001b[0m\u001b[37m\u001b[0m \u001b[1m81s\u001b[0m 68ms/step - accuracy: 0.6741 - loss: 0.8927 - val_accuracy: 0.6461 - val_loss: 0.9985\n",
            "Epoch 44/100\n",
            "\u001b[1m   1/1060\u001b[0m \u001b[37m━━━━━━━━━━━━━━━━━━━━\u001b[0m \u001b[1m1:00\u001b[0m 57ms/step - accuracy: 0.6562 - loss: 0.8998\n",
            "Epoch 44: val_loss did not improve from 1.64755\n",
            "\u001b[1m1060/1060\u001b[0m \u001b[32m━━━━━━━━━━━━━━━━━━━━\u001b[0m\u001b[37m\u001b[0m \u001b[1m1s\u001b[0m 1ms/step - accuracy: 0.6562 - loss: 0.8998 - val_accuracy: 0.6456 - val_loss: 0.9994\n",
            "Epoch 45/100\n",
            "\u001b[1m1060/1060\u001b[0m \u001b[32m━━━━━━━━━━━━━━━━━━━━\u001b[0m\u001b[37m\u001b[0m \u001b[1m0s\u001b[0m 67ms/step - accuracy: 0.6776 - loss: 0.8805\n",
            "Epoch 45: val_loss did not improve from 1.64755\n",
            "\u001b[1m1060/1060\u001b[0m \u001b[32m━━━━━━━━━━━━━━━━━━━━\u001b[0m\u001b[37m\u001b[0m \u001b[1m80s\u001b[0m 68ms/step - accuracy: 0.6776 - loss: 0.8805 - val_accuracy: 0.6587 - val_loss: 0.9092\n",
            "Epoch 46/100\n",
            "\u001b[1m   1/1060\u001b[0m \u001b[37m━━━━━━━━━━━━━━━━━━━━\u001b[0m \u001b[1m1:01\u001b[0m 58ms/step - accuracy: 0.5938 - loss: 1.0627\n",
            "Epoch 46: val_loss did not improve from 1.64755\n",
            "\u001b[1m1060/1060\u001b[0m \u001b[32m━━━━━━━━━━━━━━━━━━━━\u001b[0m\u001b[37m\u001b[0m \u001b[1m1s\u001b[0m 1ms/step - accuracy: 0.5938 - loss: 1.0627 - val_accuracy: 0.6567 - val_loss: 0.9130\n",
            "Epoch 47/100\n",
            "\u001b[1m1060/1060\u001b[0m \u001b[32m━━━━━━━━━━━━━━━━━━━━\u001b[0m\u001b[37m\u001b[0m \u001b[1m0s\u001b[0m 67ms/step - accuracy: 0.6864 - loss: 0.8640\n",
            "Epoch 47: val_loss did not improve from 1.64755\n",
            "\u001b[1m1060/1060\u001b[0m \u001b[32m━━━━━━━━━━━━━━━━━━━━\u001b[0m\u001b[37m\u001b[0m \u001b[1m80s\u001b[0m 68ms/step - accuracy: 0.6864 - loss: 0.8640 - val_accuracy: 0.6567 - val_loss: 0.9436\n",
            "Epoch 48/100\n",
            "\u001b[1m   1/1060\u001b[0m \u001b[37m━━━━━━━━━━━━━━━━━━━━\u001b[0m \u001b[1m1:01\u001b[0m 58ms/step - accuracy: 0.6719 - loss: 0.9473\n",
            "Epoch 48: val_loss did not improve from 1.64755\n",
            "\u001b[1m1060/1060\u001b[0m \u001b[32m━━━━━━━━━━━━━━━━━━━━\u001b[0m\u001b[37m\u001b[0m \u001b[1m1s\u001b[0m 1ms/step - accuracy: 0.6719 - loss: 0.9473 - val_accuracy: 0.6548 - val_loss: 0.9505\n",
            "Epoch 49/100\n",
            "\u001b[1m1060/1060\u001b[0m \u001b[32m━━━━━━━━━━━━━━━━━━━━\u001b[0m\u001b[37m\u001b[0m \u001b[1m0s\u001b[0m 67ms/step - accuracy: 0.6846 - loss: 0.8646\n",
            "Epoch 49: val_loss did not improve from 1.64755\n",
            "\u001b[1m1060/1060\u001b[0m \u001b[32m━━━━━━━━━━━━━━━━━━━━\u001b[0m\u001b[37m\u001b[0m \u001b[1m81s\u001b[0m 68ms/step - accuracy: 0.6846 - loss: 0.8646 - val_accuracy: 0.6537 - val_loss: 0.9470\n",
            "Epoch 50/100\n",
            "\u001b[1m   1/1060\u001b[0m \u001b[37m━━━━━━━━━━━━━━━━━━━━\u001b[0m \u001b[1m1:07\u001b[0m 64ms/step - accuracy: 0.6250 - loss: 0.9266\n",
            "Epoch 50: val_loss did not improve from 1.64755\n",
            "\u001b[1m1060/1060\u001b[0m \u001b[32m━━━━━━━━━━━━━━━━━━━━\u001b[0m\u001b[37m\u001b[0m \u001b[1m1s\u001b[0m 1ms/step - accuracy: 0.6250 - loss: 0.9266 - val_accuracy: 0.6534 - val_loss: 0.9525\n",
            "Epoch 51/100\n",
            "\u001b[1m1060/1060\u001b[0m \u001b[32m━━━━━━━━━━━━━━━━━━━━\u001b[0m\u001b[37m\u001b[0m \u001b[1m0s\u001b[0m 67ms/step - accuracy: 0.6904 - loss: 0.8446\n",
            "Epoch 51: val_loss did not improve from 1.64755\n",
            "\u001b[1m1060/1060\u001b[0m \u001b[32m━━━━━━━━━━━━━━━━━━━━\u001b[0m\u001b[37m\u001b[0m \u001b[1m81s\u001b[0m 68ms/step - accuracy: 0.6904 - loss: 0.8446 - val_accuracy: 0.6447 - val_loss: 0.9657\n",
            "Epoch 52/100\n",
            "\u001b[1m   1/1060\u001b[0m \u001b[37m━━━━━━━━━━━━━━━━━━━━\u001b[0m \u001b[1m1:10\u001b[0m 67ms/step - accuracy: 0.7188 - loss: 0.6878\n",
            "Epoch 52: val_loss did not improve from 1.64755\n",
            "\u001b[1m1060/1060\u001b[0m \u001b[32m━━━━━━━━━━━━━━━━━━━━\u001b[0m\u001b[37m\u001b[0m \u001b[1m1s\u001b[0m 1ms/step - accuracy: 0.7188 - loss: 0.6878 - val_accuracy: 0.6489 - val_loss: 0.9629\n",
            "Epoch 53/100\n",
            "\u001b[1m1060/1060\u001b[0m \u001b[32m━━━━━━━━━━━━━━━━━━━━\u001b[0m\u001b[37m\u001b[0m \u001b[1m0s\u001b[0m 67ms/step - accuracy: 0.6919 - loss: 0.8408\n",
            "Epoch 53: val_loss did not improve from 1.64755\n",
            "\u001b[1m1060/1060\u001b[0m \u001b[32m━━━━━━━━━━━━━━━━━━━━\u001b[0m\u001b[37m\u001b[0m \u001b[1m72s\u001b[0m 68ms/step - accuracy: 0.6919 - loss: 0.8408 - val_accuracy: 0.6291 - val_loss: 1.0257\n",
            "Epoch 54/100\n",
            "\u001b[1m   1/1060\u001b[0m \u001b[37m━━━━━━━━━━━━━━━━━━━━\u001b[0m \u001b[1m1:03\u001b[0m 60ms/step - accuracy: 0.6875 - loss: 0.8852\n",
            "Epoch 54: val_loss did not improve from 1.64755\n",
            "\u001b[1m1060/1060\u001b[0m \u001b[32m━━━━━━━━━━━━━━━━━━━━\u001b[0m\u001b[37m\u001b[0m \u001b[1m1s\u001b[0m 1ms/step - accuracy: 0.6875 - loss: 0.8852 - val_accuracy: 0.6308 - val_loss: 1.0211\n",
            "Epoch 55/100\n",
            "\u001b[1m1060/1060\u001b[0m \u001b[32m━━━━━━━━━━━━━━━━━━━━\u001b[0m\u001b[37m\u001b[0m \u001b[1m0s\u001b[0m 67ms/step - accuracy: 0.6940 - loss: 0.8332\n",
            "Epoch 55: val_loss did not improve from 1.64755\n",
            "\u001b[1m1060/1060\u001b[0m \u001b[32m━━━━━━━━━━━━━━━━━━━━\u001b[0m\u001b[37m\u001b[0m \u001b[1m72s\u001b[0m 68ms/step - accuracy: 0.6940 - loss: 0.8332 - val_accuracy: 0.6461 - val_loss: 0.9747\n",
            "Epoch 56/100\n",
            "\u001b[1m   1/1060\u001b[0m \u001b[37m━━━━━━━━━━━━━━━━━━━━\u001b[0m \u001b[1m1:02\u001b[0m 59ms/step - accuracy: 0.7500 - loss: 0.6781\n",
            "Epoch 56: val_loss did not improve from 1.64755\n",
            "\u001b[1m1060/1060\u001b[0m \u001b[32m━━━━━━━━━━━━━━━━━━━━\u001b[0m\u001b[37m\u001b[0m \u001b[1m1s\u001b[0m 1ms/step - accuracy: 0.7500 - loss: 0.6781 - val_accuracy: 0.6447 - val_loss: 0.9748\n",
            "Epoch 57/100\n",
            "\u001b[1m1060/1060\u001b[0m \u001b[32m━━━━━━━━━━━━━━━━━━━━\u001b[0m\u001b[37m\u001b[0m \u001b[1m0s\u001b[0m 66ms/step - accuracy: 0.7007 - loss: 0.8221\n",
            "Epoch 57: val_loss did not improve from 1.64755\n",
            "\u001b[1m1060/1060\u001b[0m \u001b[32m━━━━━━━━━━━━━━━━━━━━\u001b[0m\u001b[37m\u001b[0m \u001b[1m80s\u001b[0m 67ms/step - accuracy: 0.7007 - loss: 0.8221 - val_accuracy: 0.6760 - val_loss: 0.8936\n",
            "Epoch 58/100\n",
            "\u001b[1m   1/1060\u001b[0m \u001b[37m━━━━━━━━━━━━━━━━━━━━\u001b[0m \u001b[1m1:06\u001b[0m 63ms/step - accuracy: 0.7031 - loss: 0.8756\n",
            "Epoch 58: val_loss did not improve from 1.64755\n",
            "\u001b[1m1060/1060\u001b[0m \u001b[32m━━━━━━━━━━━━━━━━━━━━\u001b[0m\u001b[37m\u001b[0m \u001b[1m1s\u001b[0m 1ms/step - accuracy: 0.7031 - loss: 0.8756 - val_accuracy: 0.6723 - val_loss: 0.9044\n",
            "Epoch 59/100\n",
            "\u001b[1m1060/1060\u001b[0m \u001b[32m━━━━━━━━━━━━━━━━━━━━\u001b[0m\u001b[37m\u001b[0m \u001b[1m0s\u001b[0m 66ms/step - accuracy: 0.7029 - loss: 0.8123\n",
            "Epoch 59: val_loss did not improve from 1.64755\n",
            "\u001b[1m1060/1060\u001b[0m \u001b[32m━━━━━━━━━━━━━━━━━━━━\u001b[0m\u001b[37m\u001b[0m \u001b[1m80s\u001b[0m 67ms/step - accuracy: 0.7029 - loss: 0.8123 - val_accuracy: 0.6782 - val_loss: 0.8591\n",
            "Epoch 60/100\n",
            "\u001b[1m   1/1060\u001b[0m \u001b[37m━━━━━━━━━━━━━━━━━━━━\u001b[0m \u001b[1m1:08\u001b[0m 64ms/step - accuracy: 0.5938 - loss: 1.0936\n",
            "Epoch 60: val_loss did not improve from 1.64755\n",
            "\u001b[1m1060/1060\u001b[0m \u001b[32m━━━━━━━━━━━━━━━━━━━━\u001b[0m\u001b[37m\u001b[0m \u001b[1m1s\u001b[0m 1ms/step - accuracy: 0.5938 - loss: 1.0936 - val_accuracy: 0.6790 - val_loss: 0.8545\n",
            "Epoch 61/100\n",
            "\u001b[1m1060/1060\u001b[0m \u001b[32m━━━━━━━━━━━━━━━━━━━━\u001b[0m\u001b[37m\u001b[0m \u001b[1m0s\u001b[0m 66ms/step - accuracy: 0.7090 - loss: 0.7991\n",
            "Epoch 61: val_loss did not improve from 1.64755\n",
            "\u001b[1m1060/1060\u001b[0m \u001b[32m━━━━━━━━━━━━━━━━━━━━\u001b[0m\u001b[37m\u001b[0m \u001b[1m80s\u001b[0m 67ms/step - accuracy: 0.7090 - loss: 0.7991 - val_accuracy: 0.6787 - val_loss: 0.8654\n",
            "Epoch 62/100\n",
            "\u001b[1m   1/1060\u001b[0m \u001b[37m━━━━━━━━━━━━━━━━━━━━\u001b[0m \u001b[1m1:02\u001b[0m 59ms/step - accuracy: 0.6094 - loss: 0.9439\n",
            "Epoch 62: val_loss did not improve from 1.64755\n",
            "\u001b[1m1060/1060\u001b[0m \u001b[32m━━━━━━━━━━━━━━━━━━━━\u001b[0m\u001b[37m\u001b[0m \u001b[1m1s\u001b[0m 1ms/step - accuracy: 0.6094 - loss: 0.9439 - val_accuracy: 0.6776 - val_loss: 0.8689\n",
            "Epoch 63/100\n",
            "\u001b[1m1060/1060\u001b[0m \u001b[32m━━━━━━━━━━━━━━━━━━━━\u001b[0m\u001b[37m\u001b[0m \u001b[1m0s\u001b[0m 65ms/step - accuracy: 0.7153 - loss: 0.7860\n",
            "Epoch 63: val_loss did not improve from 1.64755\n",
            "\u001b[1m1060/1060\u001b[0m \u001b[32m━━━━━━━━━━━━━━━━━━━━\u001b[0m\u001b[37m\u001b[0m \u001b[1m70s\u001b[0m 66ms/step - accuracy: 0.7153 - loss: 0.7860 - val_accuracy: 0.6567 - val_loss: 0.9487\n",
            "Epoch 64/100\n",
            "\u001b[1m   1/1060\u001b[0m \u001b[37m━━━━━━━━━━━━━━━━━━━━\u001b[0m \u001b[1m1:01\u001b[0m 58ms/step - accuracy: 0.7031 - loss: 0.9407\n",
            "Epoch 64: val_loss did not improve from 1.64755\n",
            "\u001b[1m1060/1060\u001b[0m \u001b[32m━━━━━━━━━━━━━━━━━━━━\u001b[0m\u001b[37m\u001b[0m \u001b[1m1s\u001b[0m 1ms/step - accuracy: 0.7031 - loss: 0.9407 - val_accuracy: 0.6553 - val_loss: 0.9474\n",
            "Epoch 65/100\n",
            "\u001b[1m1060/1060\u001b[0m \u001b[32m━━━━━━━━━━━━━━━━━━━━\u001b[0m\u001b[37m\u001b[0m \u001b[1m0s\u001b[0m 66ms/step - accuracy: 0.7135 - loss: 0.7852\n",
            "Epoch 65: val_loss did not improve from 1.64755\n",
            "\u001b[1m1060/1060\u001b[0m \u001b[32m━━━━━━━━━━━━━━━━━━━━\u001b[0m\u001b[37m\u001b[0m \u001b[1m81s\u001b[0m 67ms/step - accuracy: 0.7135 - loss: 0.7852 - val_accuracy: 0.6807 - val_loss: 0.8635\n",
            "Epoch 66/100\n",
            "\u001b[1m   1/1060\u001b[0m \u001b[37m━━━━━━━━━━━━━━━━━━━━\u001b[0m \u001b[1m54s\u001b[0m 51ms/step - accuracy: 0.7059 - loss: 0.7382\n",
            "Epoch 66: val_loss did not improve from 1.64755\n",
            "\u001b[1m1060/1060\u001b[0m \u001b[32m━━━━━━━━━━━━━━━━━━━━\u001b[0m\u001b[37m\u001b[0m \u001b[1m1s\u001b[0m 1ms/step - accuracy: 0.7059 - loss: 0.7382 - val_accuracy: 0.6821 - val_loss: 0.8630\n",
            "Epoch 67/100\n",
            "\u001b[1m1060/1060\u001b[0m \u001b[32m━━━━━━━━━━━━━━━━━━━━\u001b[0m\u001b[37m\u001b[0m \u001b[1m0s\u001b[0m 66ms/step - accuracy: 0.7157 - loss: 0.7793\n",
            "Epoch 67: val_loss did not improve from 1.64755\n",
            "\u001b[1m1060/1060\u001b[0m \u001b[32m━━━━━━━━━━━━━━━━━━━━\u001b[0m\u001b[37m\u001b[0m \u001b[1m81s\u001b[0m 67ms/step - accuracy: 0.7157 - loss: 0.7793 - val_accuracy: 0.6991 - val_loss: 0.8336\n",
            "Epoch 68/100\n",
            "\u001b[1m   1/1060\u001b[0m \u001b[37m━━━━━━━━━━━━━━━━━━━━\u001b[0m \u001b[1m1:05\u001b[0m 61ms/step - accuracy: 0.7656 - loss: 0.6870\n",
            "Epoch 68: val_loss did not improve from 1.64755\n",
            "\u001b[1m1060/1060\u001b[0m \u001b[32m━━━━━━━━━━━━━━━━━━━━\u001b[0m\u001b[37m\u001b[0m \u001b[1m1s\u001b[0m 1ms/step - accuracy: 0.7656 - loss: 0.6870 - val_accuracy: 0.6971 - val_loss: 0.8364\n",
            "Epoch 69/100\n",
            "\u001b[1m1060/1060\u001b[0m \u001b[32m━━━━━━━━━━━━━━━━━━━━\u001b[0m\u001b[37m\u001b[0m \u001b[1m0s\u001b[0m 66ms/step - accuracy: 0.7184 - loss: 0.7616\n",
            "Epoch 69: val_loss did not improve from 1.64755\n",
            "\u001b[1m1060/1060\u001b[0m \u001b[32m━━━━━━━━━━━━━━━━━━━━\u001b[0m\u001b[37m\u001b[0m \u001b[1m71s\u001b[0m 67ms/step - accuracy: 0.7184 - loss: 0.7616 - val_accuracy: 0.6874 - val_loss: 0.8521\n",
            "Epoch 70/100\n",
            "\u001b[1m   1/1060\u001b[0m \u001b[37m━━━━━━━━━━━━━━━━━━━━\u001b[0m \u001b[1m59s\u001b[0m 56ms/step - accuracy: 0.7500 - loss: 0.7562\n",
            "Epoch 70: val_loss did not improve from 1.64755\n",
            "\u001b[1m1060/1060\u001b[0m \u001b[32m━━━━━━━━━━━━━━━━━━━━\u001b[0m\u001b[37m\u001b[0m \u001b[1m1s\u001b[0m 1ms/step - accuracy: 0.7500 - loss: 0.7562 - val_accuracy: 0.6885 - val_loss: 0.8504\n",
            "Epoch 71/100\n",
            "\u001b[1m1060/1060\u001b[0m \u001b[32m━━━━━━━━━━━━━━━━━━━━\u001b[0m\u001b[37m\u001b[0m \u001b[1m0s\u001b[0m 66ms/step - accuracy: 0.7232 - loss: 0.7624\n",
            "Epoch 71: val_loss did not improve from 1.64755\n",
            "\u001b[1m1060/1060\u001b[0m \u001b[32m━━━━━━━━━━━━━━━━━━━━\u001b[0m\u001b[37m\u001b[0m \u001b[1m71s\u001b[0m 67ms/step - accuracy: 0.7232 - loss: 0.7624 - val_accuracy: 0.6826 - val_loss: 0.9018\n",
            "Epoch 72/100\n",
            "\u001b[1m   1/1060\u001b[0m \u001b[37m━━━━━━━━━━━━━━━━━━━━\u001b[0m \u001b[1m1:00\u001b[0m 58ms/step - accuracy: 0.6406 - loss: 0.9585\n",
            "Epoch 72: val_loss did not improve from 1.64755\n",
            "\u001b[1m1060/1060\u001b[0m \u001b[32m━━━━━━━━━━━━━━━━━━━━\u001b[0m\u001b[37m\u001b[0m \u001b[1m1s\u001b[0m 1ms/step - accuracy: 0.6406 - loss: 0.9585 - val_accuracy: 0.6810 - val_loss: 0.9093\n",
            "Epoch 73/100\n",
            "\u001b[1m1060/1060\u001b[0m \u001b[32m━━━━━━━━━━━━━━━━━━━━\u001b[0m\u001b[37m\u001b[0m \u001b[1m0s\u001b[0m 66ms/step - accuracy: 0.7299 - loss: 0.7427\n",
            "Epoch 73: val_loss did not improve from 1.64755\n",
            "\u001b[1m1060/1060\u001b[0m \u001b[32m━━━━━━━━━━━━━━━━━━━━\u001b[0m\u001b[37m\u001b[0m \u001b[1m81s\u001b[0m 67ms/step - accuracy: 0.7299 - loss: 0.7427 - val_accuracy: 0.6943 - val_loss: 0.8322\n",
            "Epoch 74/100\n",
            "\u001b[1m   1/1060\u001b[0m \u001b[37m━━━━━━━━━━━━━━━━━━━━\u001b[0m \u001b[1m1:06\u001b[0m 63ms/step - accuracy: 0.7344 - loss: 0.7042\n",
            "Epoch 74: val_loss did not improve from 1.64755\n",
            "\u001b[1m1060/1060\u001b[0m \u001b[32m━━━━━━━━━━━━━━━━━━━━\u001b[0m\u001b[37m\u001b[0m \u001b[1m1s\u001b[0m 1ms/step - accuracy: 0.7344 - loss: 0.7042 - val_accuracy: 0.6966 - val_loss: 0.8303\n",
            "Epoch 75/100\n",
            "\u001b[1m1060/1060\u001b[0m \u001b[32m━━━━━━━━━━━━━━━━━━━━\u001b[0m\u001b[37m\u001b[0m \u001b[1m0s\u001b[0m 66ms/step - accuracy: 0.7319 - loss: 0.7361\n",
            "Epoch 75: val_loss did not improve from 1.64755\n",
            "\u001b[1m1060/1060\u001b[0m \u001b[32m━━━━━━━━━━━━━━━━━━━━\u001b[0m\u001b[37m\u001b[0m \u001b[1m81s\u001b[0m 68ms/step - accuracy: 0.7319 - loss: 0.7361 - val_accuracy: 0.6969 - val_loss: 0.8322\n",
            "Epoch 76/100\n",
            "\u001b[1m   1/1060\u001b[0m \u001b[37m━━━━━━━━━━━━━━━━━━━━\u001b[0m \u001b[1m1:04\u001b[0m 61ms/step - accuracy: 0.7188 - loss: 0.9196\n",
            "Epoch 76: val_loss did not improve from 1.64755\n",
            "\u001b[1m1060/1060\u001b[0m \u001b[32m━━━━━━━━━━━━━━━━━━━━\u001b[0m\u001b[37m\u001b[0m \u001b[1m1s\u001b[0m 1ms/step - accuracy: 0.7188 - loss: 0.9196 - val_accuracy: 0.6960 - val_loss: 0.8330\n",
            "Epoch 77/100\n",
            "\u001b[1m1060/1060\u001b[0m \u001b[32m━━━━━━━━━━━━━━━━━━━━\u001b[0m\u001b[37m\u001b[0m \u001b[1m0s\u001b[0m 66ms/step - accuracy: 0.7333 - loss: 0.7332\n",
            "Epoch 77: val_loss did not improve from 1.64755\n",
            "\u001b[1m1060/1060\u001b[0m \u001b[32m━━━━━━━━━━━━━━━━━━━━\u001b[0m\u001b[37m\u001b[0m \u001b[1m71s\u001b[0m 67ms/step - accuracy: 0.7333 - loss: 0.7332 - val_accuracy: 0.6960 - val_loss: 0.8505\n",
            "Epoch 78/100\n",
            "\u001b[1m   1/1060\u001b[0m \u001b[37m━━━━━━━━━━━━━━━━━━━━\u001b[0m \u001b[1m1:02\u001b[0m 59ms/step - accuracy: 0.7344 - loss: 0.6334\n",
            "Epoch 78: val_loss did not improve from 1.64755\n",
            "\u001b[1m1060/1060\u001b[0m \u001b[32m━━━━━━━━━━━━━━━━━━━━\u001b[0m\u001b[37m\u001b[0m \u001b[1m1s\u001b[0m 1ms/step - accuracy: 0.7344 - loss: 0.6334 - val_accuracy: 0.6943 - val_loss: 0.8548\n",
            "Epoch 79/100\n",
            "\u001b[1m1060/1060\u001b[0m \u001b[32m━━━━━━━━━━━━━━━━━━━━\u001b[0m\u001b[37m\u001b[0m \u001b[1m0s\u001b[0m 66ms/step - accuracy: 0.7395 - loss: 0.7173\n",
            "Epoch 79: val_loss did not improve from 1.64755\n",
            "\u001b[1m1060/1060\u001b[0m \u001b[32m━━━━━━━━━━━━━━━━━━━━\u001b[0m\u001b[37m\u001b[0m \u001b[1m71s\u001b[0m 67ms/step - accuracy: 0.7395 - loss: 0.7173 - val_accuracy: 0.6955 - val_loss: 0.8500\n",
            "Epoch 80/100\n",
            "\u001b[1m   1/1060\u001b[0m \u001b[37m━━━━━━━━━━━━━━━━━━━━\u001b[0m \u001b[1m59s\u001b[0m 56ms/step - accuracy: 0.6250 - loss: 1.0193\n",
            "Epoch 80: val_loss did not improve from 1.64755\n",
            "\u001b[1m1060/1060\u001b[0m \u001b[32m━━━━━━━━━━━━━━━━━━━━\u001b[0m\u001b[37m\u001b[0m \u001b[1m1s\u001b[0m 1ms/step - accuracy: 0.6250 - loss: 1.0193 - val_accuracy: 0.6941 - val_loss: 0.8581\n",
            "Epoch 81/100\n",
            "\u001b[1m1060/1060\u001b[0m \u001b[32m━━━━━━━━━━━━━━━━━━━━\u001b[0m\u001b[37m\u001b[0m \u001b[1m0s\u001b[0m 66ms/step - accuracy: 0.7446 - loss: 0.7049\n",
            "Epoch 81: val_loss did not improve from 1.64755\n",
            "\u001b[1m1060/1060\u001b[0m \u001b[32m━━━━━━━━━━━━━━━━━━━━\u001b[0m\u001b[37m\u001b[0m \u001b[1m71s\u001b[0m 67ms/step - accuracy: 0.7446 - loss: 0.7049 - val_accuracy: 0.6977 - val_loss: 0.8568\n",
            "Epoch 82/100\n",
            "\u001b[1m   1/1060\u001b[0m \u001b[37m━━━━━━━━━━━━━━━━━━━━\u001b[0m \u001b[1m1:01\u001b[0m 58ms/step - accuracy: 0.7969 - loss: 0.4927\n",
            "Epoch 82: val_loss did not improve from 1.64755\n",
            "\u001b[1m1060/1060\u001b[0m \u001b[32m━━━━━━━━━━━━━━━━━━━━\u001b[0m\u001b[37m\u001b[0m \u001b[1m1s\u001b[0m 1ms/step - accuracy: 0.7969 - loss: 0.4927 - val_accuracy: 0.6988 - val_loss: 0.8607\n",
            "Epoch 83/100\n",
            "\u001b[1m1060/1060\u001b[0m \u001b[32m━━━━━━━━━━━━━━━━━━━━\u001b[0m\u001b[37m\u001b[0m \u001b[1m0s\u001b[0m 66ms/step - accuracy: 0.7477 - loss: 0.6920\n",
            "Epoch 83: val_loss did not improve from 1.64755\n",
            "\u001b[1m1060/1060\u001b[0m \u001b[32m━━━━━━━━━━━━━━━━━━━━\u001b[0m\u001b[37m\u001b[0m \u001b[1m71s\u001b[0m 67ms/step - accuracy: 0.7477 - loss: 0.6920 - val_accuracy: 0.7208 - val_loss: 0.7989\n",
            "Epoch 84/100\n",
            "\u001b[1m   1/1060\u001b[0m \u001b[37m━━━━━━━━━━━━━━━━━━━━\u001b[0m \u001b[1m59s\u001b[0m 56ms/step - accuracy: 0.7188 - loss: 0.9097\n",
            "Epoch 84: val_loss did not improve from 1.64755\n",
            "\u001b[1m1060/1060\u001b[0m \u001b[32m━━━━━━━━━━━━━━━━━━━━\u001b[0m\u001b[37m\u001b[0m \u001b[1m1s\u001b[0m 1ms/step - accuracy: 0.7188 - loss: 0.9097 - val_accuracy: 0.7203 - val_loss: 0.7997\n",
            "Epoch 85/100\n",
            "\u001b[1m1060/1060\u001b[0m \u001b[32m━━━━━━━━━━━━━━━━━━━━\u001b[0m\u001b[37m\u001b[0m \u001b[1m0s\u001b[0m 66ms/step - accuracy: 0.7541 - loss: 0.6840\n",
            "Epoch 85: val_loss did not improve from 1.64755\n",
            "\u001b[1m1060/1060\u001b[0m \u001b[32m━━━━━━━━━━━━━━━━━━━━\u001b[0m\u001b[37m\u001b[0m \u001b[1m71s\u001b[0m 67ms/step - accuracy: 0.7541 - loss: 0.6840 - val_accuracy: 0.6960 - val_loss: 0.8770\n",
            "Epoch 86/100\n",
            "\u001b[1m   1/1060\u001b[0m \u001b[37m━━━━━━━━━━━━━━━━━━━━\u001b[0m \u001b[1m1:08\u001b[0m 65ms/step - accuracy: 0.7188 - loss: 0.7648\n",
            "Epoch 86: val_loss did not improve from 1.64755\n",
            "\u001b[1m1060/1060\u001b[0m \u001b[32m━━━━━━━━━━━━━━━━━━━━\u001b[0m\u001b[37m\u001b[0m \u001b[1m1s\u001b[0m 1ms/step - accuracy: 0.7188 - loss: 0.7648 - val_accuracy: 0.6957 - val_loss: 0.8648\n",
            "Epoch 87/100\n",
            "\u001b[1m1060/1060\u001b[0m \u001b[32m━━━━━━━━━━━━━━━━━━━━\u001b[0m\u001b[37m\u001b[0m \u001b[1m0s\u001b[0m 66ms/step - accuracy: 0.7542 - loss: 0.6752\n",
            "Epoch 87: val_loss did not improve from 1.64755\n",
            "\u001b[1m1060/1060\u001b[0m \u001b[32m━━━━━━━━━━━━━━━━━━━━\u001b[0m\u001b[37m\u001b[0m \u001b[1m81s\u001b[0m 67ms/step - accuracy: 0.7542 - loss: 0.6752 - val_accuracy: 0.7158 - val_loss: 0.7903\n",
            "Epoch 88/100\n",
            "\u001b[1m   1/1060\u001b[0m \u001b[37m━━━━━━━━━━━━━━━━━━━━\u001b[0m \u001b[1m1:06\u001b[0m 62ms/step - accuracy: 0.7969 - loss: 0.7554\n",
            "Epoch 88: val_loss did not improve from 1.64755\n",
            "\u001b[1m1060/1060\u001b[0m \u001b[32m━━━━━━━━━━━━━━━━━━━━\u001b[0m\u001b[37m\u001b[0m \u001b[1m1s\u001b[0m 1ms/step - accuracy: 0.7969 - loss: 0.7554 - val_accuracy: 0.7177 - val_loss: 0.7874\n",
            "Epoch 89/100\n",
            "\u001b[1m1060/1060\u001b[0m \u001b[32m━━━━━━━━━━━━━━━━━━━━\u001b[0m\u001b[37m\u001b[0m \u001b[1m0s\u001b[0m 66ms/step - accuracy: 0.7592 - loss: 0.6687\n",
            "Epoch 89: val_loss did not improve from 1.64755\n",
            "\u001b[1m1060/1060\u001b[0m \u001b[32m━━━━━━━━━━━━━━━━━━━━\u001b[0m\u001b[37m\u001b[0m \u001b[1m71s\u001b[0m 67ms/step - accuracy: 0.7592 - loss: 0.6687 - val_accuracy: 0.7342 - val_loss: 0.7499\n",
            "Epoch 90/100\n",
            "\u001b[1m   1/1060\u001b[0m \u001b[37m━━━━━━━━━━━━━━━━━━━━\u001b[0m \u001b[1m1:01\u001b[0m 58ms/step - accuracy: 0.8594 - loss: 0.4206\n",
            "Epoch 90: val_loss did not improve from 1.64755\n",
            "\u001b[1m1060/1060\u001b[0m \u001b[32m━━━━━━━━━━━━━━━━━━━━\u001b[0m\u001b[37m\u001b[0m \u001b[1m1s\u001b[0m 1ms/step - accuracy: 0.8594 - loss: 0.4206 - val_accuracy: 0.7345 - val_loss: 0.7486\n",
            "Epoch 91/100\n",
            "\u001b[1m1060/1060\u001b[0m \u001b[32m━━━━━━━━━━━━━━━━━━━━\u001b[0m\u001b[37m\u001b[0m \u001b[1m0s\u001b[0m 66ms/step - accuracy: 0.7629 - loss: 0.6577\n",
            "Epoch 91: val_loss did not improve from 1.64755\n",
            "\u001b[1m1060/1060\u001b[0m \u001b[32m━━━━━━━━━━━━━━━━━━━━\u001b[0m\u001b[37m\u001b[0m \u001b[1m71s\u001b[0m 67ms/step - accuracy: 0.7629 - loss: 0.6577 - val_accuracy: 0.7261 - val_loss: 0.7666\n",
            "Epoch 92/100\n",
            "\u001b[1m   1/1060\u001b[0m \u001b[37m━━━━━━━━━━━━━━━━━━━━\u001b[0m \u001b[1m1:01\u001b[0m 58ms/step - accuracy: 0.8125 - loss: 0.5595\n",
            "Epoch 92: val_loss did not improve from 1.64755\n",
            "\u001b[1m1060/1060\u001b[0m \u001b[32m━━━━━━━━━━━━━━━━━━━━\u001b[0m\u001b[37m\u001b[0m \u001b[1m1s\u001b[0m 1ms/step - accuracy: 0.8125 - loss: 0.5595 - val_accuracy: 0.7289 - val_loss: 0.7644\n",
            "Epoch 93/100\n",
            "\u001b[1m1060/1060\u001b[0m \u001b[32m━━━━━━━━━━━━━━━━━━━━\u001b[0m\u001b[37m\u001b[0m \u001b[1m0s\u001b[0m 66ms/step - accuracy: 0.7660 - loss: 0.6450\n",
            "Epoch 93: val_loss did not improve from 1.64755\n",
            "\u001b[1m1060/1060\u001b[0m \u001b[32m━━━━━━━━━━━━━━━━━━━━\u001b[0m\u001b[37m\u001b[0m \u001b[1m71s\u001b[0m 67ms/step - accuracy: 0.7660 - loss: 0.6450 - val_accuracy: 0.7283 - val_loss: 0.7766\n",
            "Epoch 94/100\n",
            "\u001b[1m   1/1060\u001b[0m \u001b[37m━━━━━━━━━━━━━━━━━━━━\u001b[0m \u001b[1m1:00\u001b[0m 57ms/step - accuracy: 0.8125 - loss: 0.5856\n",
            "Epoch 94: val_loss did not improve from 1.64755\n",
            "\u001b[1m1060/1060\u001b[0m \u001b[32m━━━━━━━━━━━━━━━━━━━━\u001b[0m\u001b[37m\u001b[0m \u001b[1m1s\u001b[0m 1ms/step - accuracy: 0.8125 - loss: 0.5856 - val_accuracy: 0.7258 - val_loss: 0.7798\n",
            "Epoch 95/100\n",
            "\u001b[1m1060/1060\u001b[0m \u001b[32m━━━━━━━━━━━━━━━━━━━━\u001b[0m\u001b[37m\u001b[0m \u001b[1m0s\u001b[0m 66ms/step - accuracy: 0.7724 - loss: 0.6310\n",
            "Epoch 95: val_loss did not improve from 1.64755\n",
            "\u001b[1m1060/1060\u001b[0m \u001b[32m━━━━━━━━━━━━━━━━━━━━\u001b[0m\u001b[37m\u001b[0m \u001b[1m81s\u001b[0m 68ms/step - accuracy: 0.7724 - loss: 0.6310 - val_accuracy: 0.7289 - val_loss: 0.7417\n",
            "Epoch 96/100\n",
            "\u001b[1m   1/1060\u001b[0m \u001b[37m━━━━━━━━━━━━━━━━━━━━\u001b[0m \u001b[1m1:01\u001b[0m 58ms/step - accuracy: 0.7188 - loss: 0.6155\n",
            "Epoch 96: val_loss did not improve from 1.64755\n",
            "\u001b[1m1060/1060\u001b[0m \u001b[32m━━━━━━━━━━━━━━━━━━━━\u001b[0m\u001b[37m\u001b[0m \u001b[1m1s\u001b[0m 1ms/step - accuracy: 0.7188 - loss: 0.6155 - val_accuracy: 0.7295 - val_loss: 0.7397\n",
            "Epoch 97/100\n",
            "\u001b[1m1060/1060\u001b[0m \u001b[32m━━━━━━━━━━━━━━━━━━━━\u001b[0m\u001b[37m\u001b[0m \u001b[1m0s\u001b[0m 67ms/step - accuracy: 0.7719 - loss: 0.6280\n",
            "Epoch 97: val_loss did not improve from 1.64755\n",
            "\u001b[1m1060/1060\u001b[0m \u001b[32m━━━━━━━━━━━━━━━━━━━━\u001b[0m\u001b[37m\u001b[0m \u001b[1m81s\u001b[0m 68ms/step - accuracy: 0.7719 - loss: 0.6280 - val_accuracy: 0.7353 - val_loss: 0.7691\n",
            "Epoch 98/100\n",
            "\u001b[1m   1/1060\u001b[0m \u001b[37m━━━━━━━━━━━━━━━━━━━━\u001b[0m \u001b[1m1:03\u001b[0m 60ms/step - accuracy: 0.7500 - loss: 0.6089\n",
            "Epoch 98: val_loss did not improve from 1.64755\n",
            "\u001b[1m1060/1060\u001b[0m \u001b[32m━━━━━━━━━━━━━━━━━━━━\u001b[0m\u001b[37m\u001b[0m \u001b[1m1s\u001b[0m 1ms/step - accuracy: 0.7500 - loss: 0.6089 - val_accuracy: 0.7314 - val_loss: 0.7739\n",
            "Epoch 99/100\n",
            "\u001b[1m1060/1060\u001b[0m \u001b[32m━━━━━━━━━━━━━━━━━━━━\u001b[0m\u001b[37m\u001b[0m \u001b[1m0s\u001b[0m 66ms/step - accuracy: 0.7788 - loss: 0.6136\n",
            "Epoch 99: val_loss did not improve from 1.64755\n",
            "\u001b[1m1060/1060\u001b[0m \u001b[32m━━━━━━━━━━━━━━━━━━━━\u001b[0m\u001b[37m\u001b[0m \u001b[1m72s\u001b[0m 68ms/step - accuracy: 0.7788 - loss: 0.6136 - val_accuracy: 0.7203 - val_loss: 0.7768\n",
            "Epoch 100/100\n",
            "\u001b[1m   1/1060\u001b[0m \u001b[37m━━━━━━━━━━━━━━━━━━━━\u001b[0m \u001b[1m1:10\u001b[0m 66ms/step - accuracy: 0.8125 - loss: 0.5085\n",
            "Epoch 100: val_loss did not improve from 1.64755\n",
            "\u001b[1m1060/1060\u001b[0m \u001b[32m━━━━━━━━━━━━━━━━━━━━\u001b[0m\u001b[37m\u001b[0m \u001b[1m1s\u001b[0m 1ms/step - accuracy: 0.8125 - loss: 0.5085 - val_accuracy: 0.7191 - val_loss: 0.7791\n"
          ]
        }
      ]
    },
    {
      "cell_type": "markdown",
      "source": [
        "Adjust learning rate and continue training:"
      ],
      "metadata": {
        "id": "c7L4CNp-l18q"
      }
    },
    {
      "cell_type": "code",
      "source": [
        "xception.optimizer.learning_rate.assign(0.0001)\n",
        "epochs = 30\n",
        "training2 = xception.fit(train_loader, steps_per_epoch=len(x_train)//batch_size, epochs=epochs, validation_data=val_loader, callbacks=[checkpoint])"
      ],
      "metadata": {
        "colab": {
          "base_uri": "https://localhost:8080/"
        },
        "id": "fWe7vrVRl3ZO",
        "outputId": "d6801db0-dab5-4d0e-fd8e-3c87914f1c8d"
      },
      "execution_count": 18,
      "outputs": [
        {
          "output_type": "stream",
          "name": "stdout",
          "text": [
            "Epoch 1/30\n",
            "\u001b[1m1060/1060\u001b[0m \u001b[32m━━━━━━━━━━━━━━━━━━━━\u001b[0m\u001b[37m\u001b[0m \u001b[1m0s\u001b[0m 66ms/step - accuracy: 0.7991 - loss: 0.5616\n",
            "Epoch 1: val_loss did not improve from 1.64755\n",
            "\u001b[1m1060/1060\u001b[0m \u001b[32m━━━━━━━━━━━━━━━━━━━━\u001b[0m\u001b[37m\u001b[0m \u001b[1m71s\u001b[0m 67ms/step - accuracy: 0.7991 - loss: 0.5616 - val_accuracy: 0.7799 - val_loss: 0.6329\n",
            "Epoch 2/30\n",
            "\u001b[1m   1/1060\u001b[0m \u001b[37m━━━━━━━━━━━━━━━━━━━━\u001b[0m \u001b[1m1:06\u001b[0m 63ms/step - accuracy: 0.8438 - loss: 0.5591\n",
            "Epoch 2: val_loss did not improve from 1.64755\n",
            "\u001b[1m1060/1060\u001b[0m \u001b[32m━━━━━━━━━━━━━━━━━━━━\u001b[0m\u001b[37m\u001b[0m \u001b[1m1s\u001b[0m 1ms/step - accuracy: 0.8438 - loss: 0.5591 - val_accuracy: 0.7799 - val_loss: 0.6329\n",
            "Epoch 3/30\n",
            "\u001b[1m1060/1060\u001b[0m \u001b[32m━━━━━━━━━━━━━━━━━━━━\u001b[0m\u001b[37m\u001b[0m \u001b[1m0s\u001b[0m 65ms/step - accuracy: 0.8214 - loss: 0.5011\n",
            "Epoch 3: val_loss did not improve from 1.64755\n",
            "\u001b[1m1060/1060\u001b[0m \u001b[32m━━━━━━━━━━━━━━━━━━━━\u001b[0m\u001b[37m\u001b[0m \u001b[1m70s\u001b[0m 66ms/step - accuracy: 0.8214 - loss: 0.5011 - val_accuracy: 0.7885 - val_loss: 0.6202\n",
            "Epoch 4/30\n",
            "\u001b[1m   1/1060\u001b[0m \u001b[37m━━━━━━━━━━━━━━━━━━━━\u001b[0m \u001b[1m59s\u001b[0m 56ms/step - accuracy: 0.9219 - loss: 0.3418\n",
            "Epoch 4: val_loss did not improve from 1.64755\n",
            "\u001b[1m1060/1060\u001b[0m \u001b[32m━━━━━━━━━━━━━━━━━━━━\u001b[0m\u001b[37m\u001b[0m \u001b[1m1s\u001b[0m 1ms/step - accuracy: 0.9219 - loss: 0.3418 - val_accuracy: 0.7888 - val_loss: 0.6200\n",
            "Epoch 5/30\n",
            "\u001b[1m1060/1060\u001b[0m \u001b[32m━━━━━━━━━━━━━━━━━━━━\u001b[0m\u001b[37m\u001b[0m \u001b[1m0s\u001b[0m 65ms/step - accuracy: 0.8261 - loss: 0.4884\n",
            "Epoch 5: val_loss did not improve from 1.64755\n",
            "\u001b[1m1060/1060\u001b[0m \u001b[32m━━━━━━━━━━━━━━━━━━━━\u001b[0m\u001b[37m\u001b[0m \u001b[1m81s\u001b[0m 66ms/step - accuracy: 0.8261 - loss: 0.4884 - val_accuracy: 0.7712 - val_loss: 0.6540\n",
            "Epoch 6/30\n",
            "\u001b[1m   1/1060\u001b[0m \u001b[37m━━━━━━━━━━━━━━━━━━━━\u001b[0m \u001b[1m1:00\u001b[0m 57ms/step - accuracy: 0.8594 - loss: 0.4114\n",
            "Epoch 6: val_loss did not improve from 1.64755\n",
            "\u001b[1m1060/1060\u001b[0m \u001b[32m━━━━━━━━━━━━━━━━━━━━\u001b[0m\u001b[37m\u001b[0m \u001b[1m1s\u001b[0m 1ms/step - accuracy: 0.8594 - loss: 0.4114 - val_accuracy: 0.7710 - val_loss: 0.6542\n",
            "Epoch 7/30\n",
            "\u001b[1m1060/1060\u001b[0m \u001b[32m━━━━━━━━━━━━━━━━━━━━\u001b[0m\u001b[37m\u001b[0m \u001b[1m0s\u001b[0m 65ms/step - accuracy: 0.8301 - loss: 0.4758\n",
            "Epoch 7: val_loss did not improve from 1.64755\n",
            "\u001b[1m1060/1060\u001b[0m \u001b[32m━━━━━━━━━━━━━━━━━━━━\u001b[0m\u001b[37m\u001b[0m \u001b[1m81s\u001b[0m 66ms/step - accuracy: 0.8301 - loss: 0.4758 - val_accuracy: 0.7894 - val_loss: 0.6154\n",
            "Epoch 8/30\n",
            "\u001b[1m   1/1060\u001b[0m \u001b[37m━━━━━━━━━━━━━━━━━━━━\u001b[0m \u001b[1m1:05\u001b[0m 62ms/step - accuracy: 0.8125 - loss: 0.5228\n",
            "Epoch 8: val_loss did not improve from 1.64755\n",
            "\u001b[1m1060/1060\u001b[0m \u001b[32m━━━━━━━━━━━━━━━━━━━━\u001b[0m\u001b[37m\u001b[0m \u001b[1m1s\u001b[0m 1ms/step - accuracy: 0.8125 - loss: 0.5228 - val_accuracy: 0.7894 - val_loss: 0.6158\n",
            "Epoch 9/30\n",
            "\u001b[1m1060/1060\u001b[0m \u001b[32m━━━━━━━━━━━━━━━━━━━━\u001b[0m\u001b[37m\u001b[0m \u001b[1m0s\u001b[0m 65ms/step - accuracy: 0.8331 - loss: 0.4690\n",
            "Epoch 9: val_loss did not improve from 1.64755\n",
            "\u001b[1m1060/1060\u001b[0m \u001b[32m━━━━━━━━━━━━━━━━━━━━\u001b[0m\u001b[37m\u001b[0m \u001b[1m70s\u001b[0m 66ms/step - accuracy: 0.8331 - loss: 0.4690 - val_accuracy: 0.7902 - val_loss: 0.6144\n",
            "Epoch 10/30\n",
            "\u001b[1m   1/1060\u001b[0m \u001b[37m━━━━━━━━━━━━━━━━━━━━\u001b[0m \u001b[1m1:02\u001b[0m 59ms/step - accuracy: 0.9375 - loss: 0.2044\n",
            "Epoch 10: val_loss did not improve from 1.64755\n",
            "\u001b[1m1060/1060\u001b[0m \u001b[32m━━━━━━━━━━━━━━━━━━━━\u001b[0m\u001b[37m\u001b[0m \u001b[1m1s\u001b[0m 1ms/step - accuracy: 0.9375 - loss: 0.2044 - val_accuracy: 0.7907 - val_loss: 0.6145\n",
            "Epoch 11/30\n",
            "\u001b[1m1060/1060\u001b[0m \u001b[32m━━━━━━━━━━━━━━━━━━━━\u001b[0m\u001b[37m\u001b[0m \u001b[1m0s\u001b[0m 65ms/step - accuracy: 0.8400 - loss: 0.4588\n",
            "Epoch 11: val_loss did not improve from 1.64755\n",
            "\u001b[1m1060/1060\u001b[0m \u001b[32m━━━━━━━━━━━━━━━━━━━━\u001b[0m\u001b[37m\u001b[0m \u001b[1m81s\u001b[0m 66ms/step - accuracy: 0.8400 - loss: 0.4588 - val_accuracy: 0.7919 - val_loss: 0.6073\n",
            "Epoch 12/30\n",
            "\u001b[1m   1/1060\u001b[0m \u001b[37m━━━━━━━━━━━━━━━━━━━━\u001b[0m \u001b[1m1:00\u001b[0m 57ms/step - accuracy: 0.8125 - loss: 0.4805\n",
            "Epoch 12: val_loss did not improve from 1.64755\n",
            "\u001b[1m1060/1060\u001b[0m \u001b[32m━━━━━━━━━━━━━━━━━━━━\u001b[0m\u001b[37m\u001b[0m \u001b[1m1s\u001b[0m 1ms/step - accuracy: 0.8125 - loss: 0.4805 - val_accuracy: 0.7919 - val_loss: 0.6071\n",
            "Epoch 13/30\n",
            "\u001b[1m1060/1060\u001b[0m \u001b[32m━━━━━━━━━━━━━━━━━━━━\u001b[0m\u001b[37m\u001b[0m \u001b[1m0s\u001b[0m 65ms/step - accuracy: 0.8394 - loss: 0.4546\n",
            "Epoch 13: val_loss did not improve from 1.64755\n",
            "\u001b[1m1060/1060\u001b[0m \u001b[32m━━━━━━━━━━━━━━━━━━━━\u001b[0m\u001b[37m\u001b[0m \u001b[1m70s\u001b[0m 66ms/step - accuracy: 0.8394 - loss: 0.4546 - val_accuracy: 0.7905 - val_loss: 0.6081\n",
            "Epoch 14/30\n",
            "\u001b[1m   1/1060\u001b[0m \u001b[37m━━━━━━━━━━━━━━━━━━━━\u001b[0m \u001b[1m1:03\u001b[0m 60ms/step - accuracy: 0.8438 - loss: 0.5230\n",
            "Epoch 14: val_loss did not improve from 1.64755\n",
            "\u001b[1m1060/1060\u001b[0m \u001b[32m━━━━━━━━━━━━━━━━━━━━\u001b[0m\u001b[37m\u001b[0m \u001b[1m1s\u001b[0m 1ms/step - accuracy: 0.8438 - loss: 0.5230 - val_accuracy: 0.7891 - val_loss: 0.6095\n",
            "Epoch 15/30\n",
            "\u001b[1m1060/1060\u001b[0m \u001b[32m━━━━━━━━━━━━━━━━━━━━\u001b[0m\u001b[37m\u001b[0m \u001b[1m0s\u001b[0m 65ms/step - accuracy: 0.8389 - loss: 0.4529\n",
            "Epoch 15: val_loss did not improve from 1.64755\n",
            "\u001b[1m1060/1060\u001b[0m \u001b[32m━━━━━━━━━━━━━━━━━━━━\u001b[0m\u001b[37m\u001b[0m \u001b[1m70s\u001b[0m 66ms/step - accuracy: 0.8389 - loss: 0.4529 - val_accuracy: 0.8027 - val_loss: 0.5914\n",
            "Epoch 16/30\n",
            "\u001b[1m   1/1060\u001b[0m \u001b[37m━━━━━━━━━━━━━━━━━━━━\u001b[0m \u001b[1m59s\u001b[0m 56ms/step - accuracy: 0.7812 - loss: 0.6033\n",
            "Epoch 16: val_loss did not improve from 1.64755\n",
            "\u001b[1m1060/1060\u001b[0m \u001b[32m━━━━━━━━━━━━━━━━━━━━\u001b[0m\u001b[37m\u001b[0m \u001b[1m1s\u001b[0m 1ms/step - accuracy: 0.7812 - loss: 0.6033 - val_accuracy: 0.8027 - val_loss: 0.5910\n",
            "Epoch 17/30\n",
            "\u001b[1m1060/1060\u001b[0m \u001b[32m━━━━━━━━━━━━━━━━━━━━\u001b[0m\u001b[37m\u001b[0m \u001b[1m0s\u001b[0m 65ms/step - accuracy: 0.8414 - loss: 0.4461\n",
            "Epoch 17: val_loss did not improve from 1.64755\n",
            "\u001b[1m1060/1060\u001b[0m \u001b[32m━━━━━━━━━━━━━━━━━━━━\u001b[0m\u001b[37m\u001b[0m \u001b[1m81s\u001b[0m 66ms/step - accuracy: 0.8414 - loss: 0.4461 - val_accuracy: 0.7868 - val_loss: 0.6140\n",
            "Epoch 18/30\n",
            "\u001b[1m   1/1060\u001b[0m \u001b[37m━━━━━━━━━━━━━━━━━━━━\u001b[0m \u001b[1m1:00\u001b[0m 58ms/step - accuracy: 0.8438 - loss: 0.6191\n",
            "Epoch 18: val_loss did not improve from 1.64755\n",
            "\u001b[1m1060/1060\u001b[0m \u001b[32m━━━━━━━━━━━━━━━━━━━━\u001b[0m\u001b[37m\u001b[0m \u001b[1m1s\u001b[0m 1ms/step - accuracy: 0.8438 - loss: 0.6191 - val_accuracy: 0.7874 - val_loss: 0.6140\n",
            "Epoch 19/30\n",
            "\u001b[1m1060/1060\u001b[0m \u001b[32m━━━━━━━━━━━━━━━━━━━━\u001b[0m\u001b[37m\u001b[0m \u001b[1m0s\u001b[0m 65ms/step - accuracy: 0.8455 - loss: 0.4348\n",
            "Epoch 19: val_loss did not improve from 1.64755\n",
            "\u001b[1m1060/1060\u001b[0m \u001b[32m━━━━━━━━━━━━━━━━━━━━\u001b[0m\u001b[37m\u001b[0m \u001b[1m70s\u001b[0m 66ms/step - accuracy: 0.8455 - loss: 0.4348 - val_accuracy: 0.7930 - val_loss: 0.5919\n",
            "Epoch 20/30\n",
            "\u001b[1m   1/1060\u001b[0m \u001b[37m━━━━━━━━━━━━━━━━━━━━\u001b[0m \u001b[1m1:00\u001b[0m 57ms/step - accuracy: 0.8750 - loss: 0.4034\n",
            "Epoch 20: val_loss did not improve from 1.64755\n",
            "\u001b[1m1060/1060\u001b[0m \u001b[32m━━━━━━━━━━━━━━━━━━━━\u001b[0m\u001b[37m\u001b[0m \u001b[1m1s\u001b[0m 1ms/step - accuracy: 0.8750 - loss: 0.4034 - val_accuracy: 0.7930 - val_loss: 0.5912\n",
            "Epoch 21/30\n",
            "\u001b[1m1060/1060\u001b[0m \u001b[32m━━━━━━━━━━━━━━━━━━━━\u001b[0m\u001b[37m\u001b[0m \u001b[1m0s\u001b[0m 65ms/step - accuracy: 0.8464 - loss: 0.4322\n",
            "Epoch 21: val_loss did not improve from 1.64755\n",
            "\u001b[1m1060/1060\u001b[0m \u001b[32m━━━━━━━━━━━━━━━━━━━━\u001b[0m\u001b[37m\u001b[0m \u001b[1m70s\u001b[0m 66ms/step - accuracy: 0.8464 - loss: 0.4322 - val_accuracy: 0.7958 - val_loss: 0.5921\n",
            "Epoch 22/30\n",
            "\u001b[1m   1/1060\u001b[0m \u001b[37m━━━━━━━━━━━━━━━━━━━━\u001b[0m \u001b[1m59s\u001b[0m 56ms/step - accuracy: 0.9219 - loss: 0.3048\n",
            "Epoch 22: val_loss did not improve from 1.64755\n",
            "\u001b[1m1060/1060\u001b[0m \u001b[32m━━━━━━━━━━━━━━━━━━━━\u001b[0m\u001b[37m\u001b[0m \u001b[1m1s\u001b[0m 1ms/step - accuracy: 0.9219 - loss: 0.3048 - val_accuracy: 0.7949 - val_loss: 0.5922\n",
            "Epoch 23/30\n",
            "\u001b[1m1060/1060\u001b[0m \u001b[32m━━━━━━━━━━━━━━━━━━━━\u001b[0m\u001b[37m\u001b[0m \u001b[1m0s\u001b[0m 65ms/step - accuracy: 0.8488 - loss: 0.4293\n",
            "Epoch 23: val_loss did not improve from 1.64755\n",
            "\u001b[1m1060/1060\u001b[0m \u001b[32m━━━━━━━━━━━━━━━━━━━━\u001b[0m\u001b[37m\u001b[0m \u001b[1m81s\u001b[0m 66ms/step - accuracy: 0.8488 - loss: 0.4293 - val_accuracy: 0.8038 - val_loss: 0.5803\n",
            "Epoch 24/30\n",
            "\u001b[1m   1/1060\u001b[0m \u001b[37m━━━━━━━━━━━━━━━━━━━━\u001b[0m \u001b[1m59s\u001b[0m 56ms/step - accuracy: 0.8438 - loss: 0.4097\n",
            "Epoch 24: val_loss did not improve from 1.64755\n",
            "\u001b[1m1060/1060\u001b[0m \u001b[32m━━━━━━━━━━━━━━━━━━━━\u001b[0m\u001b[37m\u001b[0m \u001b[1m1s\u001b[0m 1ms/step - accuracy: 0.8438 - loss: 0.4097 - val_accuracy: 0.8030 - val_loss: 0.5804\n",
            "Epoch 25/30\n",
            "\u001b[1m1060/1060\u001b[0m \u001b[32m━━━━━━━━━━━━━━━━━━━━\u001b[0m\u001b[37m\u001b[0m \u001b[1m0s\u001b[0m 65ms/step - accuracy: 0.8520 - loss: 0.4213\n",
            "Epoch 25: val_loss did not improve from 1.64755\n",
            "\u001b[1m1060/1060\u001b[0m \u001b[32m━━━━━━━━━━━━━━━━━━━━\u001b[0m\u001b[37m\u001b[0m \u001b[1m70s\u001b[0m 66ms/step - accuracy: 0.8520 - loss: 0.4213 - val_accuracy: 0.8002 - val_loss: 0.5843\n",
            "Epoch 26/30\n",
            "\u001b[1m   1/1060\u001b[0m \u001b[37m━━━━━━━━━━━━━━━━━━━━\u001b[0m \u001b[1m1:01\u001b[0m 58ms/step - accuracy: 0.7188 - loss: 0.5136\n",
            "Epoch 26: val_loss did not improve from 1.64755\n",
            "\u001b[1m1060/1060\u001b[0m \u001b[32m━━━━━━━━━━━━━━━━━━━━\u001b[0m\u001b[37m\u001b[0m \u001b[1m1s\u001b[0m 1ms/step - accuracy: 0.7188 - loss: 0.5136 - val_accuracy: 0.7999 - val_loss: 0.5855\n",
            "Epoch 27/30\n",
            "\u001b[1m1060/1060\u001b[0m \u001b[32m━━━━━━━━━━━━━━━━━━━━\u001b[0m\u001b[37m\u001b[0m \u001b[1m0s\u001b[0m 65ms/step - accuracy: 0.8549 - loss: 0.4084\n",
            "Epoch 27: val_loss did not improve from 1.64755\n",
            "\u001b[1m1060/1060\u001b[0m \u001b[32m━━━━━━━━━━━━━━━━━━━━\u001b[0m\u001b[37m\u001b[0m \u001b[1m81s\u001b[0m 66ms/step - accuracy: 0.8549 - loss: 0.4084 - val_accuracy: 0.8030 - val_loss: 0.5799\n",
            "Epoch 28/30\n",
            "\u001b[1m   1/1060\u001b[0m \u001b[37m━━━━━━━━━━━━━━━━━━━━\u001b[0m \u001b[1m1:02\u001b[0m 59ms/step - accuracy: 0.8281 - loss: 0.4023\n",
            "Epoch 28: val_loss did not improve from 1.64755\n",
            "\u001b[1m1060/1060\u001b[0m \u001b[32m━━━━━━━━━━━━━━━━━━━━\u001b[0m\u001b[37m\u001b[0m \u001b[1m1s\u001b[0m 1ms/step - accuracy: 0.8281 - loss: 0.4023 - val_accuracy: 0.8025 - val_loss: 0.5798\n",
            "Epoch 29/30\n",
            "\u001b[1m1060/1060\u001b[0m \u001b[32m━━━━━━━━━━━━━━━━━━━━\u001b[0m\u001b[37m\u001b[0m \u001b[1m0s\u001b[0m 65ms/step - accuracy: 0.8547 - loss: 0.4102\n",
            "Epoch 29: val_loss did not improve from 1.64755\n",
            "\u001b[1m1060/1060\u001b[0m \u001b[32m━━━━━━━━━━━━━━━━━━━━\u001b[0m\u001b[37m\u001b[0m \u001b[1m70s\u001b[0m 66ms/step - accuracy: 0.8547 - loss: 0.4102 - val_accuracy: 0.7986 - val_loss: 0.6017\n",
            "Epoch 30/30\n",
            "\u001b[1m   1/1060\u001b[0m \u001b[37m━━━━━━━━━━━━━━━━━━━━\u001b[0m \u001b[1m59s\u001b[0m 56ms/step - accuracy: 0.9062 - loss: 0.2911\n",
            "Epoch 30: val_loss did not improve from 1.64755\n",
            "\u001b[1m1060/1060\u001b[0m \u001b[32m━━━━━━━━━━━━━━━━━━━━\u001b[0m\u001b[37m\u001b[0m \u001b[1m1s\u001b[0m 1ms/step - accuracy: 0.9062 - loss: 0.2911 - val_accuracy: 0.7988 - val_loss: 0.6015\n"
          ]
        }
      ]
    },
    {
      "cell_type": "markdown",
      "source": [
        "Further reduce learning rate for final training"
      ],
      "metadata": {
        "id": "a-mYAaRIl432"
      }
    },
    {
      "cell_type": "code",
      "source": [
        "xception.optimizer.learning_rate.assign(0.00001)\n",
        "epochs = 20\n",
        "training3 = xception.fit(train_loader, steps_per_epoch=len(x_train)//batch_size, epochs=epochs, validation_data=val_loader, callbacks=[checkpoint])"
      ],
      "metadata": {
        "colab": {
          "base_uri": "https://localhost:8080/"
        },
        "id": "bgFux-gHl7gj",
        "outputId": "39b6cf1b-c5c0-4ca2-b4c8-64ed65f0b3f7"
      },
      "execution_count": 19,
      "outputs": [
        {
          "output_type": "stream",
          "name": "stdout",
          "text": [
            "Epoch 1/20\n",
            "\u001b[1m1060/1060\u001b[0m \u001b[32m━━━━━━━━━━━━━━━━━━━━\u001b[0m\u001b[37m\u001b[0m \u001b[1m0s\u001b[0m 65ms/step - accuracy: 0.8544 - loss: 0.4077\n",
            "Epoch 1: val_loss did not improve from 1.64755\n",
            "\u001b[1m1060/1060\u001b[0m \u001b[32m━━━━━━━━━━━━━━━━━━━━\u001b[0m\u001b[37m\u001b[0m \u001b[1m70s\u001b[0m 66ms/step - accuracy: 0.8544 - loss: 0.4077 - val_accuracy: 0.8044 - val_loss: 0.5715\n",
            "Epoch 2/20\n",
            "\u001b[1m   1/1060\u001b[0m \u001b[37m━━━━━━━━━━━━━━━━━━━━\u001b[0m \u001b[1m1:00\u001b[0m 57ms/step - accuracy: 0.8281 - loss: 0.4832\n",
            "Epoch 2: val_loss did not improve from 1.64755\n",
            "\u001b[1m1060/1060\u001b[0m \u001b[32m━━━━━━━━━━━━━━━━━━━━\u001b[0m\u001b[37m\u001b[0m \u001b[1m1s\u001b[0m 1ms/step - accuracy: 0.8281 - loss: 0.4832 - val_accuracy: 0.8041 - val_loss: 0.5717\n",
            "Epoch 3/20\n",
            "\u001b[1m1060/1060\u001b[0m \u001b[32m━━━━━━━━━━━━━━━━━━━━\u001b[0m\u001b[37m\u001b[0m \u001b[1m0s\u001b[0m 65ms/step - accuracy: 0.8568 - loss: 0.4066\n",
            "Epoch 3: val_loss did not improve from 1.64755\n",
            "\u001b[1m1060/1060\u001b[0m \u001b[32m━━━━━━━━━━━━━━━━━━━━\u001b[0m\u001b[37m\u001b[0m \u001b[1m81s\u001b[0m 66ms/step - accuracy: 0.8568 - loss: 0.4066 - val_accuracy: 0.8055 - val_loss: 0.5694\n",
            "Epoch 4/20\n",
            "\u001b[1m   1/1060\u001b[0m \u001b[37m━━━━━━━━━━━━━━━━━━━━\u001b[0m \u001b[1m1:02\u001b[0m 59ms/step - accuracy: 0.8594 - loss: 0.4345\n",
            "Epoch 4: val_loss did not improve from 1.64755\n",
            "\u001b[1m1060/1060\u001b[0m \u001b[32m━━━━━━━━━━━━━━━━━━━━\u001b[0m\u001b[37m\u001b[0m \u001b[1m1s\u001b[0m 1ms/step - accuracy: 0.8594 - loss: 0.4345 - val_accuracy: 0.8061 - val_loss: 0.5693\n",
            "Epoch 5/20\n",
            "\u001b[1m1060/1060\u001b[0m \u001b[32m━━━━━━━━━━━━━━━━━━━━\u001b[0m\u001b[37m\u001b[0m \u001b[1m0s\u001b[0m 65ms/step - accuracy: 0.8576 - loss: 0.3999\n",
            "Epoch 5: val_loss did not improve from 1.64755\n",
            "\u001b[1m1060/1060\u001b[0m \u001b[32m━━━━━━━━━━━━━━━━━━━━\u001b[0m\u001b[37m\u001b[0m \u001b[1m70s\u001b[0m 66ms/step - accuracy: 0.8577 - loss: 0.3999 - val_accuracy: 0.8086 - val_loss: 0.5651\n",
            "Epoch 6/20\n",
            "\u001b[1m   1/1060\u001b[0m \u001b[37m━━━━━━━━━━━━━━━━━━━━\u001b[0m \u001b[1m59s\u001b[0m 57ms/step - accuracy: 0.8438 - loss: 0.5022\n",
            "Epoch 6: val_loss did not improve from 1.64755\n",
            "\u001b[1m1060/1060\u001b[0m \u001b[32m━━━━━━━━━━━━━━━━━━━━\u001b[0m\u001b[37m\u001b[0m \u001b[1m1s\u001b[0m 1ms/step - accuracy: 0.8438 - loss: 0.5022 - val_accuracy: 0.8083 - val_loss: 0.5645\n",
            "Epoch 7/20\n",
            "\u001b[1m1060/1060\u001b[0m \u001b[32m━━━━━━━━━━━━━━━━━━━━\u001b[0m\u001b[37m\u001b[0m \u001b[1m0s\u001b[0m 65ms/step - accuracy: 0.8606 - loss: 0.3990\n",
            "Epoch 7: val_loss did not improve from 1.64755\n",
            "\u001b[1m1060/1060\u001b[0m \u001b[32m━━━━━━━━━━━━━━━━━━━━\u001b[0m\u001b[37m\u001b[0m \u001b[1m70s\u001b[0m 66ms/step - accuracy: 0.8606 - loss: 0.3990 - val_accuracy: 0.8089 - val_loss: 0.5645\n",
            "Epoch 8/20\n",
            "\u001b[1m   1/1060\u001b[0m \u001b[37m━━━━━━━━━━━━━━━━━━━━\u001b[0m \u001b[1m58s\u001b[0m 56ms/step - accuracy: 0.8906 - loss: 0.3645\n",
            "Epoch 8: val_loss did not improve from 1.64755\n",
            "\u001b[1m1060/1060\u001b[0m \u001b[32m━━━━━━━━━━━━━━━━━━━━\u001b[0m\u001b[37m\u001b[0m \u001b[1m1s\u001b[0m 1ms/step - accuracy: 0.8906 - loss: 0.3645 - val_accuracy: 0.8097 - val_loss: 0.5647\n",
            "Epoch 9/20\n",
            "\u001b[1m1060/1060\u001b[0m \u001b[32m━━━━━━━━━━━━━━━━━━━━\u001b[0m\u001b[37m\u001b[0m \u001b[1m0s\u001b[0m 65ms/step - accuracy: 0.8602 - loss: 0.3974\n",
            "Epoch 9: val_loss did not improve from 1.64755\n",
            "\u001b[1m1060/1060\u001b[0m \u001b[32m━━━━━━━━━━━━━━━━━━━━\u001b[0m\u001b[37m\u001b[0m \u001b[1m70s\u001b[0m 66ms/step - accuracy: 0.8602 - loss: 0.3974 - val_accuracy: 0.8091 - val_loss: 0.5651\n",
            "Epoch 10/20\n",
            "\u001b[1m   1/1060\u001b[0m \u001b[37m━━━━━━━━━━━━━━━━━━━━\u001b[0m \u001b[1m1:04\u001b[0m 61ms/step - accuracy: 0.8281 - loss: 0.4182\n",
            "Epoch 10: val_loss did not improve from 1.64755\n",
            "\u001b[1m1060/1060\u001b[0m \u001b[32m━━━━━━━━━━━━━━━━━━━━\u001b[0m\u001b[37m\u001b[0m \u001b[1m1s\u001b[0m 1ms/step - accuracy: 0.8281 - loss: 0.4182 - val_accuracy: 0.8094 - val_loss: 0.5647\n",
            "Epoch 11/20\n",
            "\u001b[1m1060/1060\u001b[0m \u001b[32m━━━━━━━━━━━━━━━━━━━━\u001b[0m\u001b[37m\u001b[0m \u001b[1m0s\u001b[0m 65ms/step - accuracy: 0.8555 - loss: 0.4024\n",
            "Epoch 11: val_loss did not improve from 1.64755\n",
            "\u001b[1m1060/1060\u001b[0m \u001b[32m━━━━━━━━━━━━━━━━━━━━\u001b[0m\u001b[37m\u001b[0m \u001b[1m70s\u001b[0m 66ms/step - accuracy: 0.8555 - loss: 0.4024 - val_accuracy: 0.8086 - val_loss: 0.5611\n",
            "Epoch 12/20\n",
            "\u001b[1m   1/1060\u001b[0m \u001b[37m━━━━━━━━━━━━━━━━━━━━\u001b[0m \u001b[1m1:00\u001b[0m 57ms/step - accuracy: 0.7500 - loss: 0.4954\n",
            "Epoch 12: val_loss did not improve from 1.64755\n",
            "\u001b[1m1060/1060\u001b[0m \u001b[32m━━━━━━━━━━━━━━━━━━━━\u001b[0m\u001b[37m\u001b[0m \u001b[1m1s\u001b[0m 1ms/step - accuracy: 0.7500 - loss: 0.4954 - val_accuracy: 0.8083 - val_loss: 0.5611\n",
            "Epoch 13/20\n",
            "\u001b[1m1060/1060\u001b[0m \u001b[32m━━━━━━━━━━━━━━━━━━━━\u001b[0m\u001b[37m\u001b[0m \u001b[1m0s\u001b[0m 65ms/step - accuracy: 0.8616 - loss: 0.3958\n",
            "Epoch 13: val_loss did not improve from 1.64755\n",
            "\u001b[1m1060/1060\u001b[0m \u001b[32m━━━━━━━━━━━━━━━━━━━━\u001b[0m\u001b[37m\u001b[0m \u001b[1m70s\u001b[0m 66ms/step - accuracy: 0.8616 - loss: 0.3958 - val_accuracy: 0.8086 - val_loss: 0.5619\n",
            "Epoch 14/20\n",
            "\u001b[1m   1/1060\u001b[0m \u001b[37m━━━━━━━━━━━━━━━━━━━━\u001b[0m \u001b[1m1:01\u001b[0m 58ms/step - accuracy: 0.9375 - loss: 0.2491\n",
            "Epoch 14: val_loss did not improve from 1.64755\n",
            "\u001b[1m1060/1060\u001b[0m \u001b[32m━━━━━━━━━━━━━━━━━━━━\u001b[0m\u001b[37m\u001b[0m \u001b[1m1s\u001b[0m 1ms/step - accuracy: 0.9375 - loss: 0.2491 - val_accuracy: 0.8086 - val_loss: 0.5616\n",
            "Epoch 15/20\n",
            "\u001b[1m1060/1060\u001b[0m \u001b[32m━━━━━━━━━━━━━━━━━━━━\u001b[0m\u001b[37m\u001b[0m \u001b[1m0s\u001b[0m 66ms/step - accuracy: 0.8584 - loss: 0.3970\n",
            "Epoch 15: val_loss did not improve from 1.64755\n",
            "\u001b[1m1060/1060\u001b[0m \u001b[32m━━━━━━━━━━━━━━━━━━━━\u001b[0m\u001b[37m\u001b[0m \u001b[1m71s\u001b[0m 67ms/step - accuracy: 0.8584 - loss: 0.3970 - val_accuracy: 0.8075 - val_loss: 0.5620\n",
            "Epoch 16/20\n",
            "\u001b[1m   1/1060\u001b[0m \u001b[37m━━━━━━━━━━━━━━━━━━━━\u001b[0m \u001b[1m1:05\u001b[0m 62ms/step - accuracy: 0.8594 - loss: 0.3616\n",
            "Epoch 16: val_loss did not improve from 1.64755\n",
            "\u001b[1m1060/1060\u001b[0m \u001b[32m━━━━━━━━━━━━━━━━━━━━\u001b[0m\u001b[37m\u001b[0m \u001b[1m1s\u001b[0m 1ms/step - accuracy: 0.8594 - loss: 0.3616 - val_accuracy: 0.8077 - val_loss: 0.5617\n",
            "Epoch 17/20\n",
            "\u001b[1m1060/1060\u001b[0m \u001b[32m━━━━━━━━━━━━━━━━━━━━\u001b[0m\u001b[37m\u001b[0m \u001b[1m0s\u001b[0m 66ms/step - accuracy: 0.8617 - loss: 0.3916\n",
            "Epoch 17: val_loss did not improve from 1.64755\n",
            "\u001b[1m1060/1060\u001b[0m \u001b[32m━━━━━━━━━━━━━━━━━━━━\u001b[0m\u001b[37m\u001b[0m \u001b[1m81s\u001b[0m 67ms/step - accuracy: 0.8617 - loss: 0.3916 - val_accuracy: 0.8080 - val_loss: 0.5624\n",
            "Epoch 18/20\n",
            "\u001b[1m   1/1060\u001b[0m \u001b[37m━━━━━━━━━━━━━━━━━━━━\u001b[0m \u001b[1m1:02\u001b[0m 59ms/step - accuracy: 0.9219 - loss: 0.3069\n",
            "Epoch 18: val_loss did not improve from 1.64755\n",
            "\u001b[1m1060/1060\u001b[0m \u001b[32m━━━━━━━━━━━━━━━━━━━━\u001b[0m\u001b[37m\u001b[0m \u001b[1m1s\u001b[0m 1ms/step - accuracy: 0.9219 - loss: 0.3069 - val_accuracy: 0.8080 - val_loss: 0.5621\n",
            "Epoch 19/20\n",
            "\u001b[1m1060/1060\u001b[0m \u001b[32m━━━━━━━━━━━━━━━━━━━━\u001b[0m\u001b[37m\u001b[0m \u001b[1m0s\u001b[0m 66ms/step - accuracy: 0.8598 - loss: 0.3961\n",
            "Epoch 19: val_loss did not improve from 1.64755\n",
            "\u001b[1m1060/1060\u001b[0m \u001b[32m━━━━━━━━━━━━━━━━━━━━\u001b[0m\u001b[37m\u001b[0m \u001b[1m71s\u001b[0m 67ms/step - accuracy: 0.8598 - loss: 0.3961 - val_accuracy: 0.8119 - val_loss: 0.5584\n",
            "Epoch 20/20\n",
            "\u001b[1m   1/1060\u001b[0m \u001b[37m━━━━━━━━━━━━━━━━━━━━\u001b[0m \u001b[1m1:00\u001b[0m 57ms/step - accuracy: 0.8281 - loss: 0.3595\n",
            "Epoch 20: val_loss did not improve from 1.64755\n",
            "\u001b[1m1060/1060\u001b[0m \u001b[32m━━━━━━━━━━━━━━━━━━━━\u001b[0m\u001b[37m\u001b[0m \u001b[1m1s\u001b[0m 1ms/step - accuracy: 0.8281 - loss: 0.3595 - val_accuracy: 0.8122 - val_loss: 0.5585\n"
          ]
        }
      ]
    },
    {
      "cell_type": "markdown",
      "source": [
        "# 📈 Performance Visualization\n",
        "Plots loss and accuracy over epochs.\n"
      ],
      "metadata": {
        "id": "3ARnwRt8l90q"
      }
    },
    {
      "cell_type": "code",
      "source": [
        "import matplotlib.pyplot as plt\n",
        "\n",
        "# Plot training history\n",
        "history = training3.history\n",
        "n_epochs = len(history['loss'])\n",
        "\n",
        "plt.figure(figsize=[10,4])\n",
        "plt.subplot(1,2,1)\n",
        "plt.plot(range(1, n_epochs+1), history['loss'], label='Training')\n",
        "plt.plot(range(1, n_epochs+1), history['val_loss'], label='Validation')\n",
        "plt.xlabel('Epoch'); plt.ylabel('Loss'); plt.title('Loss')\n",
        "plt.legend()\n",
        "\n",
        "plt.subplot(1,2,2)\n",
        "plt.plot(range(1, n_epochs+1), history['accuracy'], label='Training')\n",
        "plt.plot(range(1, n_epochs+1), history['val_accuracy'], label='Validation')\n",
        "plt.xlabel('Epoch'); plt.ylabel('Accuracy'); plt.title('Accuracy')\n",
        "plt.legend()\n",
        "plt.show()"
      ],
      "metadata": {
        "colab": {
          "base_uri": "https://localhost:8080/",
          "height": 803
        },
        "id": "BIDrcqSmmC64",
        "outputId": "3b966483-189f-4c44-d927-485e41b37203"
      },
      "execution_count": 20,
      "outputs": [
        {
          "output_type": "display_data",
          "data": {
            "text/plain": [
              "<Figure size 1000x400 with 2 Axes>"
            ],
            "image/png": "[encoded data removed]"
          },
          "metadata": {}
        },
        {
          "output_type": "display_data",
          "data": {
            "text/plain": [
              "<Figure size 1000x400 with 2 Axes>"
            ],
            "image/png": "[encoded data removed]"
          },
          "metadata": {}
        }
      ]
    },
    {
      "cell_type": "markdown",
      "source": [
        "***💾 Saving the Model***         \n",
        "Saves trained model to Google Drive.\n"
      ],
      "metadata": {
        "id": "QNq1k6GkmF42"
      }
    },
    {
      "cell_type": "code",
      "source": [
        "xception.save('/content/drive/MyDrive/xception_model2v2.h5')"
      ],
      "metadata": {
        "colab": {
          "base_uri": "https://localhost:8080/"
        },
        "id": "5SiyBT0xmKiP",
        "outputId": "20aea8a7-b828-4b2c-aab0-d0e719543c61"
      },
      "execution_count": 24,
      "outputs": [
        {
          "output_type": "stream",
          "name": "stderr",
          "text": [
            "WARNING:absl:You are saving your model as an HDF5 file via `model.save()` or `keras.saving.save_model(model)`. This file format is considered legacy. We recommend using instead the native Keras format, e.g. `model.save('my_model.keras')` or `keras.saving.save_model(model, 'my_model.keras')`. \n"
          ]
        }
      ]
    },
    {
      "cell_type": "markdown",
      "source": [
        "# 🧠 Model Evaluation and Performance Analysis\n",
        "This section makes predictions with the trained model, evaluates its performance, and visualizes results using a confusion matrix and a classification report\n"
      ],
      "metadata": {
        "id": "1i5zt7mFAtXe"
      }
    },
    {
      "cell_type": "markdown",
      "source": [
        "**🔮 Making Predictions**                                         \n",
        "Uses the trained model to predict emotions based on the test dataset.\n"
      ],
      "metadata": {
        "id": "VYmgGmlcA5IU"
      }
    },
    {
      "cell_type": "code",
      "source": [
        "# Make predictions with the model\n",
        "predicted_probs = model.predict(x_test)  # Get predicted probabilities\n",
        "predicted_labels = np.argmax(predicted_probs, axis=1)  # Convert probabilities to class labels"
      ],
      "metadata": {
        "colab": {
          "base_uri": "https://localhost:8080/"
        },
        "id": "-RQBgkZdA1qO",
        "outputId": "f91ec633-45cf-404f-9a12-dc20f0da2fb5"
      },
      "execution_count": 30,
      "outputs": [
        {
          "output_type": "stream",
          "name": "stdout",
          "text": [
            "\u001b[1m113/113\u001b[0m \u001b[32m━━━━━━━━━━━━━━━━━━━━\u001b[0m\u001b[37m\u001b[0m \u001b[1m7s\u001b[0m 32ms/step\n"
          ]
        }
      ]
    },
    {
      "cell_type": "markdown",
      "source": [
        "**📊 Generating Confusion Matrix**                                \n",
        "Compares model predictions with actual labels to assess performance.\n"
      ],
      "metadata": {
        "id": "PLEnMh86BCT8"
      }
    },
    {
      "cell_type": "code",
      "source": [
        "from sklearn.metrics import confusion_matrix\n",
        "\n",
        "# Create the confusion matrix\n",
        "confusion_mtx = confusion_matrix(np.argmax(y_test, axis=1), predicted_labels)"
      ],
      "metadata": {
        "id": "ixENHSrVA9AR"
      },
      "execution_count": 31,
      "outputs": []
    },
    {
      "cell_type": "markdown",
      "source": [
        "**🏷 Defining Emotion Classes**                                             \n",
        "Specifies the emotion categories for analysis\n"
      ],
      "metadata": {
        "id": "B8y9nbM_BHHY"
      }
    },
    {
      "cell_type": "code",
      "source": [
        "# Define class names corresponding to emotion categories\n",
        "class_names = ['Angry', 'Disgust', 'Fear', 'Happy', 'Sad', 'Surprise', 'Neutral']"
      ],
      "metadata": {
        "id": "wO6r63wYBGBW"
      },
      "execution_count": 32,
      "outputs": []
    },
    {
      "cell_type": "markdown",
      "source": [
        "**🎨 Visualizing Confusion Matrix**                                             \n",
        "Plots the confusion matrix using Seaborn for better readability.\n"
      ],
      "metadata": {
        "id": "dqE36SWgBOh-"
      }
    },
    {
      "cell_type": "code",
      "source": [
        "import seaborn as sns\n",
        "import matplotlib.pyplot as plt\n",
        "\n",
        "# Configure plot size and font scale\n",
        "plt.figure(figsize=(8, 6))\n",
        "sns.set(font_scale=1.2)\n",
        "\n",
        "# Plot confusion matrix with annotations\n",
        "sns.heatmap(confusion_mtx, annot=True, fmt='d', cmap='Blues', xticklabels=class_names, yticklabels=class_names)\n",
        "\n",
        "# Label the axes and add a title\n",
        "plt.xlabel('Predicted')\n",
        "plt.ylabel('Actual')\n",
        "plt.title('Confusion Matrix')\n",
        "\n",
        "# Display the plot\n",
        "plt.show()"
      ],
      "metadata": {
        "colab": {
          "base_uri": "https://localhost:8080/",
          "height": 635
        },
        "id": "g5LiVqd3BQgF",
        "outputId": "53eaa26e-b045-4360-96a4-4f6ab2f003d8"
      },
      "execution_count": 33,
      "outputs": [
        {
          "output_type": "display_data",
          "data": {
            "text/plain": [
              "<Figure size 800x600 with 2 Axes>"
            ],
            "image/png": "[encoded data removed]"
          },
          "metadata": {}
        }
      ]
    },
    {
      "cell_type": "markdown",
      "source": [
        "**📜 Generating Classification Report**                                           \n",
        "Provides precision, recall, and F1-score for each emotion class.\n"
      ],
      "metadata": {
        "id": "x5TfZGoLBSrH"
      }
    },
    {
      "cell_type": "code",
      "source": [
        "from sklearn.metrics import classification_report\n",
        "\n",
        "# Print classification report with detailed metrics\n",
        "print('Classification Report:')\n",
        "print(classification_report(np.argmax(y_test, axis=1), predicted_labels, target_names=class_names))"
      ],
      "metadata": {
        "colab": {
          "base_uri": "https://localhost:8080/"
        },
        "id": "khc-dMdyBV3o",
        "outputId": "6c6f48cd-b97f-43e6-be8c-e0bd6bffe8e3"
      },
      "execution_count": 34,
      "outputs": [
        {
          "output_type": "stream",
          "name": "stdout",
          "text": [
            "Classification Report:\n",
            "              precision    recall  f1-score   support\n",
            "\n",
            "       Angry       0.89      0.89      0.89       491\n",
            "     Disgust       0.96      0.95      0.95        55\n",
            "        Fear       0.92      0.84      0.88       528\n",
            "       Happy       0.97      0.97      0.97       879\n",
            "         Sad       0.86      0.86      0.86       594\n",
            "    Surprise       0.95      0.97      0.96       416\n",
            "     Neutral       0.87      0.92      0.89       626\n",
            "\n",
            "    accuracy                           0.91      3589\n",
            "   macro avg       0.92      0.91      0.92      3589\n",
            "weighted avg       0.91      0.91      0.91      3589\n",
            "\n"
          ]
        }
      ]
    },
    {
      "cell_type": "markdown",
      "source": [
        "This section ensures a structured evaluation of model performance, highlighting areas for improvement. Let me know if you need any refinements!\n"
      ],
      "metadata": {
        "id": "b-hdNH5cBZwT"
      }
    }
  ]
}